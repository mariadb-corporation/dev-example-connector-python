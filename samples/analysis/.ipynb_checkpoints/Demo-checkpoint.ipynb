{
 "cells": [
  {
   "cell_type": "code",
   "execution_count": 12,
   "id": "19749143-5f8f-40aa-aa70-aa6a4ea9b2c0",
   "metadata": {},
   "outputs": [
    {
     "data": {
      "application/vnd.plotly.v1+json": {
       "config": {
        "plotlyServerURL": "https://plot.ly"
       },
       "data": [
        {
         "customdata": [
          [
           7045
          ],
          [
           10853
          ],
          [
           9090
          ],
          [
           626
          ],
          [
           82
          ],
          [
           839
          ],
          [
           990
          ],
          [
           264
          ],
          [
           5596
          ],
          [
           29175
          ],
          [
           11145
          ],
          [
           4400
          ],
          [
           178450
          ],
          [
           401679
          ],
          [
           11083
          ],
          [
           3760
          ],
          [
           10953
          ],
          [
           1036
          ],
          [
           176542
          ],
          [
           3441
          ],
          [
           21927
          ],
          [
           6542
          ],
          [
           1360
          ],
          [
           1345
          ],
          [
           3315
          ],
          [
           6577
          ],
          [
           773
          ],
          [
           27323
          ],
          [
           4134
          ],
          [
           168521
          ],
          [
           9073
          ],
          [
           5885
          ],
          [
           5583
          ],
          [
           722
          ],
          [
           26447
          ],
          [
           3378
          ],
          [
           722
          ],
          [
           98451
          ],
          [
           1119
          ],
          [
           2903
          ],
          [
           2470
          ],
          [
           4375
          ],
          [
           180096
          ],
          [
           5159
          ],
          [
           1274
          ],
          [
           7789
          ],
          [
           4768
          ],
          [
           7654
          ],
          [
           1384
          ],
          [
           749
          ],
          [
           3079
          ],
          [
           728
          ],
          [
           4515
          ],
          [
           35521
          ],
          [
           1738
          ],
          [
           8684
          ],
          [
           9020
          ],
          [
           6611
          ],
          [
           1976
          ],
          [
           641
          ],
          [
           51837
          ],
          [
           25500
          ],
          [
           7707
          ],
          [
           8913
          ],
          [
           35190
          ],
          [
           6318
          ],
          [
           2120
          ],
          [
           1001
          ],
          [
           2437
          ],
          [
           1983
          ],
          [
           728
          ],
          [
           77287
          ],
          [
           1799
          ],
          [
           231
          ],
          [
           11873
          ],
          [
           5721
          ],
          [
           1387
          ],
          [
           84222
          ],
          [
           4923
          ],
          [
           3113
          ],
          [
           11430
          ],
          [
           624
          ],
          [
           25975
          ],
          [
           5677
          ],
          [
           4241
          ],
          [
           748
          ],
          [
           193
          ],
          [
           2996
          ],
          [
           2574
          ],
          [
           1242
          ],
          [
           1049
          ],
          [
           722
          ],
          [
           32481
          ],
          [
           27664
          ],
          [
           7711
          ],
          [
           1005
          ],
          [
           2305
          ],
          [
           56004
          ],
          [
           16760
          ],
          [
           3310
          ],
          [
           2848
          ],
          [
           645
          ],
          [
           89209
          ],
          [
           3177
          ],
          [
           1086
          ],
          [
           2764
          ],
          [
           938
          ],
          [
           5269
          ],
          [
           27175
          ],
          [
           16024
          ],
          [
           1376
          ],
          [
           23182
          ],
          [
           7827
          ],
          [
           6788
          ],
          [
           6767
          ],
          [
           52178
          ],
          [
           86655
          ],
          [
           29538
          ],
          [
           27554
          ],
          [
           4359
          ],
          [
           53660
          ],
          [
           5203
          ],
          [
           709
          ],
          [
           10263
          ],
          [
           4872
          ],
          [
           1184
          ],
          [
           1688
          ],
          [
           5233
          ],
          [
           99277
          ],
          [
           727
          ],
          [
           708
          ],
          [
           104
          ],
          [
           5355
          ],
          [
           2726
          ],
          [
           50306
          ],
          [
           82
          ],
          [
           19727
          ],
          [
           19856
          ],
          [
           806
          ],
          [
           1346
          ],
          [
           5886
          ],
          [
           6056
          ],
          [
           7608
          ],
          [
           2015
          ],
          [
           720
          ],
          [
           152715
          ],
          [
           21194
          ],
          [
           2266
          ],
          [
           1334
          ],
          [
           93417
          ],
          [
           143129
          ],
          [
           9976
          ],
          [
           12498
          ],
          [
           4573
          ],
          [
           2626
          ],
          [
           75722
          ],
          [
           6115
          ],
          [
           1920
          ],
          [
           57282
          ],
          [
           3570
          ],
          [
           12864
          ],
          [
           34474
          ],
          [
           26831
          ],
          [
           11996
          ],
          [
           5909
          ],
          [
           2966
          ],
          [
           700
          ],
          [
           1568
          ],
          [
           50775
          ],
          [
           192978
          ],
          [
           58358
          ],
          [
           51857
          ],
          [
           2601
          ],
          [
           171957
          ],
          [
           626
          ],
          [
           18538
          ],
          [
           19730
          ],
          [
           1142
          ],
          [
           6584
          ],
          [
           1110
          ],
          [
           3396
          ],
          [
           8404
          ],
          [
           16263
          ],
          [
           2199
          ],
          [
           8942
          ],
          [
           7554
          ],
          [
           8832
          ],
          [
           1296
          ],
          [
           724
          ],
          [
           18820
          ],
          [
           834
          ],
          [
           2272
          ],
          [
           1767
          ],
          [
           636
          ],
          [
           623
          ],
          [
           70322
          ],
          [
           6393
          ],
          [
           2383
          ],
          [
           105674
          ],
          [
           515
          ],
          [
           735
          ],
          [
           5422
          ],
          [
           15250
          ],
          [
           6851
          ],
          [
           7446
          ],
          [
           845
          ],
          [
           5403
          ],
          [
           143578
          ],
          [
           473
          ],
          [
           2903
          ],
          [
           988
          ],
          [
           120
          ],
          [
           304865
          ],
          [
           627
          ],
          [
           3284
          ],
          [
           5681
          ],
          [
           26099
          ],
          [
           1798
          ],
          [
           1040
          ],
          [
           3013
          ],
          [
           67187
          ],
          [
           10750
          ],
          [
           568
          ],
          [
           724
          ],
          [
           6460
          ],
          [
           2318
          ],
          [
           3272
          ],
          [
           1412
          ],
          [
           158824
          ],
          [
           23601
          ],
          [
           22191
          ],
          [
           894
          ],
          [
           1090
          ],
          [
           552
          ],
          [
           28334
          ],
          [
           763
          ],
          [
           83
          ],
          [
           15484
          ],
          [
           14064
          ],
          [
           3821
          ],
          [
           44574
          ],
          [
           83819
          ],
          [
           4688
          ],
          [
           61
          ],
          [
           286947
          ],
          [
           18947
          ],
          [
           11486
          ],
          [
           5759
          ],
          [
           12664
          ],
          [
           15712
          ],
          [
           4846
          ],
          [
           17775
          ],
          [
           17632
          ],
          [
           5988
          ],
          [
           136
          ],
          [
           728
          ],
          [
           18654
          ],
          [
           12096
          ],
          [
           678
          ],
          [
           742
          ],
          [
           1825
          ],
          [
           628
          ],
          [
           939
          ],
          [
           56562
          ],
          [
           2113
          ],
          [
           1391
          ],
          [
           648
          ],
          [
           626
          ],
          [
           176253
          ],
          [
           395695
          ],
          [
           7095
          ],
          [
           19869
          ],
          [
           4489
          ],
          [
           2610
          ],
          [
           677
          ],
          [
           723
          ],
          [
           18495
          ],
          [
           4050
          ],
          [
           721
          ],
          [
           2896
          ],
          [
           8461
          ],
          [
           27448
          ],
          [
           4000
          ],
          [
           2939
          ],
          [
           1251
          ],
          [
           1881
          ],
          [
           12460
          ],
          [
           3753
          ],
          [
           976
          ],
          [
           1037
          ],
          [
           156990
          ],
          [
           992
          ],
          [
           677
          ],
          [
           676
          ],
          [
           256465
          ],
          [
           74764
          ],
          [
           5539
          ],
          [
           12623
          ],
          [
           827
          ],
          [
           248989
          ],
          [
           2978
          ],
          [
           121013
          ],
          [
           18222
          ],
          [
           11283
          ],
          [
           70567
          ],
          [
           28766
          ],
          [
           728
          ],
          [
           4803
          ],
          [
           60415
          ],
          [
           20865
          ],
          [
           2542
          ],
          [
           2676
          ],
          [
           1257
          ],
          [
           2379
          ],
          [
           14656
          ],
          [
           826
          ],
          [
           1436
          ],
          [
           2165
          ],
          [
           2888
          ],
          [
           161892
          ],
          [
           958
          ],
          [
           751
          ],
          [
           42433
          ],
          [
           127260
          ],
          [
           5362
          ],
          [
           8505
          ],
          [
           383
          ],
          [
           626
          ]
         ],
         "hovertemplate": "<b>%{hovertext}</b><br><br>flights=%{marker.color}<br>latitude=%{lat}<br>longitude=%{lon}<extra></extra>",
         "hovertext": [
          "Tri-Cities Airport",
          "Asheville Regional Airport",
          "Charlottesville-Albemarle Airport",
          "Western Neb. Rgnl/William B. Heilig Airport",
          "Gustavus Airport",
          "Guam International Airport",
          "Jamestown Regional Airport",
          "Westerly State Airport",
          "McAllen-Miller International Airport (McAllen Miller International)",
          "Richmond International Airport",
          "Springfield-Branson National Airport",
          "Bishop International Airport",
          "Phoenix Sky Harbor International Airport",
          "Chicago O'Hare International Airport",
          "Manchester-Boston Regional Airport",
          "Lincoln Airport (Lincoln Municipal)",
          "City of Colorado Springs Municipal Airport",
          "Valdosta Regional Airport",
          "Detroit Metropolitan Airport",
          "Albert J. Ellis Airport",
          "Gerald R. Ford International Airport",
          "Lehigh Valley International Airport",
          "Plattsburgh International Airport",
          "Sioux Gateway Airport",
          "Bellingham International Airport",
          "Tallahassee International Airport",
          "Gillette-Campbell County Airport",
          "Kahului Airport",
          "Fayetteville Regional Airport",
          "McCarran International Airport",
          "Wilmington International Airport",
          "Rick Husband Amarillo International Airport",
          "San Luis Obispo County Regional Airport (McChesney Field)",
          "Merle K. (Mudhole) Smith Airport",
          "Albuquerque International Sunport",
          "Duluth International Airport",
          "Yakutat Airport",
          "Fort Lauderdale-Hollywood International Airport",
          "Arnold Palmer Regional Airport",
          "University of Illinois - Willard Airport",
          "Meadows Field",
          "Durango-La Plata County Airport",
          "George Bush Intercontinental Airport",
          "University Park Airport",
          "Columbus Metropolitan Airport",
          "Akron-Canton Regional Airport",
          "Glacier Park International Airport",
          "Fort Wayne International Airport",
          "Roswell International Air Center",
          "Chicago Rockford International Airport",
          "Central Illinois Regional Airport at Bloomington-Normal",
          "Wiley Post-Will Rogers Memorial Airport",
          "Juneau International Airport",
          "Jacksonville International Airport",
          "Worcester Regional Airport",
          "Sioux Falls Regional Airport",
          "Rogue Valley International Airport",
          "Northwest Florida Beaches International Airport",
          "Lake Charles Regional Airport",
          "Kodiak Airport",
          "Cincinnati/Northern Kentucky International Airport",
          "Boise Airport (Boise Air Terminal)",
          "South Bend International Airport (South Bend Regional)",
          "Eugene Airport (Mahlon Sweet Field)",
          "General Mitchell International Airport",
          "Rapid City Regional Airport",
          "Toledo Express Airport",
          "Jack Brooks Regional Airport (Southeast Texas Regional)",
          "Helena Regional Airport",
          "Manhattan Regional Airport",
          "Houghton County Memorial Airport",
          "Tampa International Airport",
          "Waco Regional Airport",
          "Branson",
          "Wichita Dwight D. Eisenhower National Airport (Wichita Mid-Continent Airport)",
          "Phoenix-Mesa-Gateway Airport",
          "Joplin Regional Airport",
          "Chicago Midway International Airport",
          "Grand Junction Regional Airport (Walker Field)",
          "Atlantic City International Airport",
          "Columbia Metropolitan Airport",
          "Devils Lake Regional Airport",
          "Will Rogers World Airport",
          "Cherry Capital Airport",
          "Rochester International Airport",
          "Lea County Regional Airport",
          "Santa Maria Public Airport (Capt G. Allan Hancock Field)",
          "Ithaca Tompkins Regional Airport",
          "Coastal Carolina Regional Airport (Craven County Regional)",
          "Texarkana Regional Airport (Webb Field)",
          "Dubuque Regional Airport",
          "Nome Airport",
          "Bob Hope Airport (Hollywood Burbank Airport)",
          "Memphis International Airport",
          "Baton Rouge Metropolitan Airport",
          "Southwest Georgia Regional Airport",
          "Rafael Hernández Airport",
          "Kansas City International Airport",
          "James M. Cox Dayton International Airport",
          "Daytona Beach International Airport",
          "Santa Fe Municipal Airport",
          "Dickinson Theodore Roosevelt Regional Airport",
          "Miami International Airport",
          "Great Falls International Airport",
          "Pellston Regional Airport of Emmet County",
          "Elmira/Corning Regional Airport",
          "Pueblo Memorial Airport",
          "Yeager Airport",
          "Norfolk International Airport",
          "Long Beach Airport (Daugherty Field)",
          "Dothan Regional Airport",
          "Ontario International Airport",
          "Santa Barbara Municipal Airport (Santa Barbara Airport)",
          "Mobile Regional Airport",
          "Quad City International Airport",
          "Cleveland Hopkins International Airport",
          "Portland International Airport",
          "Bradley International Airport",
          "Charleston International Airport/Charleston AFB",
          "Tri-Cities Regional Airport",
          "Oakland International Airport",
          "Gainesville Regional Airport",
          "Hattiesburg-Laurel Regional Airport",
          "Chattanooga Metropolitan Airport (Lovell Field)",
          "Fairbanks International Airport",
          "Golden Triangle Regional Airport",
          "Sloulin Field International Airport",
          "Lafayette Regional Airport",
          "San Diego International Airport (Lindbergh Field)",
          "Muskegon County Airport",
          "Shenandoah Valley Regional Airport",
          "Adak Airport",
          "Charlotte County Airport",
          "Brownsville/South Padre Island International Airport",
          "Port Columbus International Airport",
          "Dillingham Airport",
          "Ted Stevens Anchorage International Airport",
          "Theodore Francis Green State Airport",
          "Rhinelander-Oneida County Airport",
          "Sitka Rocky Gutierrez Airport",
          "Missoula International Airport",
          "Wilkes-Barre/Scranton International Airport",
          "Hector International Airport",
          "Arcata Airport",
          "Ralph Wien Memorial Airport",
          "Gen. Edward Lawrence Logan International Airport",
          "McGhee Tyson Airport",
          "Easterwood Airport",
          "Lawton-Fort Sill Regional Airport",
          "Washington Dulles International Airport",
          "Orlando International Airport",
          "Midland International Airport",
          "Blue Grass Airport",
          "Gulfport-Biloxi International Airport",
          "Melbourne International Airport",
          "St. Louis International Airport at Lambert Field",
          "Hilo International Airport",
          "Yuma International Airport",
          "Sacramento International Airport",
          "Central Wisconsin Airport",
          "Pensacola International Airport (Pensacola Gulf Coast Regional Airport)",
          "Southwest Florida International Airport",
          "Luis Muñoz Marín International Airport",
          "Burlington International Airport",
          "Corpus Christi International Airport",
          "Montrose Regional Airport",
          "Waterloo Regional Airport",
          "Tyler Pounds Regional Airport",
          "Pittsburgh International Airport",
          "Seattle-Tacoma International Airport",
          "Louis Armstrong New Orleans International Airport",
          "Indianapolis International Airport",
          "St. George Regional Airport",
          "LaGuardia Airport (Marine Air Terminal)",
          "Delta County Airport",
          "Des Moines International Airport",
          "El Paso International Airport",
          "Central Nebraska Regional Airport",
          "Aspen-Pitkin County Airport",
          "Yellowstone Regional Airport",
          "Killeen-Fort Hood Regional Airport",
          "Bozeman Yellowstone International Airport (Gallatin Field Airport)",
          "Dane County Regional Airport",
          "La Crosse Regional Airport",
          "Redmond Municipal Airport (Roberts Field)",
          "Lubbock Preston Smith International Airport",
          "Destin-Fort Walton Beach Airport/Eglin AFB",
          "Barkley Regional Airport",
          "Petersburg James A. Johnson Airport",
          "Savannah/Hilton Head International Airport",
          "Gunnison-Crested Butte Regional Airport",
          "Abilene Regional Airport",
          "Yampa Valley Airport (Yampa Valley Regional)",
          "Brainerd Lakes Regional Airport",
          "Canyonlands Field",
          "Raleigh-Durham International Airport",
          "Green Bay-Austin Straubel International Airport",
          "Ketchikan International Airport",
          "Baltimore-Washington International Airport",
          "Cheyenne Regional Jerry Olson Field",
          "Rock Springs-Sweetwater County Airport",
          "Billings Logan International Airport",
          "Bill and Hillary Clinton National Airport (Adams Field)",
          "Appleton International Airport",
          "Roanoke Regional Airport (Woodrum Field)",
          "Niagara Falls International Airport",
          "Bismarck Municipal Airport",
          "Ronald Reagan Washington National Airport",
          "Saipan International Airport",
          "Minot International Airport",
          "Deadhorse Airport (Prudhoe Bay Airport)",
          "Pago Pago International Airport (Tafuna Airport)",
          "Dallas/Fort Worth International Airport",
          "Valdez Airport",
          "Columbia Regional Airport",
          "Key West International Airport",
          "Palm Beach International Airport",
          "Abraham Lincoln Capital Airport",
          "Magic Valley Regional Airport (Joslin Field)",
          "Trenton Mercer Airport",
          "Austin-Bergstrom International Airport",
          "The Eastern Iowa Airport",
          "Mammoth Yosemite Airport",
          "Wrangell Airport",
          "Long Island MacArthur Airport",
          "Natrona County International Airport",
          "Alexandria International Airport",
          "Sawyer International Airport",
          "Newark Liberty International Airport",
          "Reno/Tahoe International Airport",
          "Spokane International Airport",
          "Henry E. Rohlsen Airport",
          "Pocatello Regional Airport",
          "Martha's Vineyard Airport",
          "Louisville International Airport (Standiford Field)",
          "Cedar City Regional Airport",
          "Barnstable Municipal Airport",
          "Kona International Airport at Keahole",
          "Lihue Airport",
          "Kalamazoo/Battle Creek International Airport",
          "John Wayne Airport (Orange County Airport)",
          "Nashville International Airport",
          "Montgomery Regional Airport",
          "King Salmon Airport",
          "Denver International Airport",
          "Greater Rochester International Airport",
          "Harrisburg International Airport",
          "Bangor International Airport",
          "Fresno Yosemite International Airport",
          "Northwest Arkansas Regional Airport",
          "Monterey Regional Airport (Monterey Peninsula Airport)",
          "Syracuse Hancock International Airport",
          "Albany International Airport",
          "General Wayne A. Downing Peoria International Airport",
          "St. Cloud Regional Airport",
          "Chippewa Valley Regional Airport",
          "Piedmont Triad International Airport",
          "Myrtle Beach International Airport",
          "Ford Airport",
          "Bemidji Regional Airport",
          "Friedman Memorial Airport",
          "Alpena County Regional Airport",
          "East Texas Regional Airport",
          "Honolulu International Airport",
          "Grand Forks International Airport",
          "Redding Municipal Airport",
          "Falls International Airport",
          "Laramie Regional Airport",
          "San Francisco International Airport",
          "Hartsfield-Jackson Atlanta International Airport",
          "Shreveport Regional Airport",
          "Tucson International Airport",
          "Valley International Airport",
          "Erie International Airport",
          "Bert Mooney Airport",
          "Del Rio International Airport",
          "Tulsa International Airport",
          "Capital Region International Airport ( Lansing Capital City)",
          "Watertown International Airport",
          "Idaho Falls Regional Airport",
          "Jackson-Evers International Airport",
          "Eppley Airfield",
          "Newport News/Williamsburg International Airport",
          "Monroe Regional Airport",
          "Hays Regional Airport",
          "San Angelo Regional Airport (Mathis Field)",
          "Palm Springs International Airport",
          "Cyril E. King Airport",
          "Meridian Regional Airport",
          "Brunswick Golden Isles Airport",
          "Philadelphia International Airport",
          "Lewiston-Nez Perce County Airport",
          "Chippewa County International Airport",
          "Elko Regional Airport",
          "Charlotte Douglas International Airport",
          "Dallas Love Field",
          "Evansville Regional Airport",
          "Westchester County Airport",
          "Bethel Airport",
          "Los Angeles International Airport",
          "MBS International Airport",
          "Salt Lake City International Airport",
          "Greenville-Spartanburg International Airport",
          "Huntsville International Airport",
          "Norman Y. Mineta San José International Airport",
          "Buffalo Niagara International Airport",
          "Garden City Regional Airport",
          "Jackson Hole Airport",
          "William P. Hobby Airport",
          "Birmingham-Shuttlesworth International Airport",
          "Flagstaff Pulliam Airport",
          "Laredo International Airport",
          "Wichita Falls Municipal Airport/Sheppard AFB",
          "Eagle County Regional Airport",
          "Portland International Jetport",
          "Mercedita Airport",
          "Nantucket Memorial Airport",
          "Fort Smith Regional Airport",
          "Stewart International Airport",
          "Minneapolis-Saint Paul International Airport",
          "Greater Binghamton Airport",
          "Aberdeen Regional Airport",
          "San Antonio International Airport",
          "John F. Kennedy International Airport (New York International Airport)",
          "Augusta Regional Airport (Bush Field)",
          "Sarasota-Bradenton International Airport",
          "Southwest Oregon Regional Airport (North Bend Municipal)",
          "Range Regional Airport (Chisholm-Hibbing Airport)"
         ],
         "lat": [
          46.2647,
          35.4362,
          38.1386,
          41.874,
          58.4244,
          13.4834,
          46.9297,
          44.6884,
          26.1758,
          37.5052,
          37.2443,
          42.9655,
          33.4342,
          41.9796,
          42.9345,
          40.851,
          38.8058,
          30.7825,
          42.2121,
          34.8292,
          42.8808,
          40.6524,
          0,
          42.4026,
          48.7928,
          30.3965,
          44.3489,
          20.8986,
          34.9915,
          36.0804,
          34.2706,
          35.2194,
          35.2371,
          60.4918,
          35.0402,
          46.8421,
          59.5034,
          26.0726,
          40.2759,
          40.0392,
          35.4336,
          37.1515,
          29.9805,
          40.8512,
          32.5163,
          40.9163,
          48.3114,
          40.9785,
          33.3016,
          42.1954,
          40.478,
          71.2855,
          58.355,
          30.4941,
          42.2673,
          43.5813,
          42.3742,
          0,
          30.1261,
          57.75,
          39.0461,
          43.5644,
          41.709,
          44.1233,
          42.9472,
          44.0453,
          41.5868,
          29.9508,
          46.6068,
          39.141,
          47.1684,
          27.9755,
          31.6113,
          36.532,
          37.65,
          33.3078,
          37.1518,
          41.786,
          39.1224,
          39.4576,
          33.9388,
          48.1143,
          35.3931,
          44.7414,
          43.9088,
          32.6875,
          34.8993,
          42.491,
          35.073,
          33.4537,
          42.403,
          64.5122,
          34.2006,
          35.0424,
          30.5332,
          31.5355,
          18.4949,
          39.2976,
          39.9024,
          29.1799,
          35.6168,
          46.7974,
          25.7932,
          47.482,
          45.5709,
          42.1599,
          38.2891,
          38.3731,
          36.8946,
          33.8177,
          31.3213,
          34.056,
          34.4262,
          30.6914,
          41.4485,
          41.4109,
          45.5887,
          41.9389,
          32.8987,
          36.4752,
          37.7213,
          29.6901,
          31.4671,
          35.0353,
          64.8137,
          33.4503,
          48.1779,
          30.2053,
          32.7336,
          43.1695,
          38.2638,
          51.878,
          26.9202,
          25.9068,
          39.998,
          59.0454,
          61.1743,
          41.724,
          45.6312,
          57.0471,
          46.9163,
          41.3382,
          46.9193,
          40.9781,
          66.8847,
          42.3643,
          35.8125,
          30.5886,
          34.5677,
          38.9445,
          28.4289,
          31.9425,
          38.037,
          30.4073,
          28.1028,
          38.7477,
          19.7203,
          32.6566,
          38.6954,
          44.7776,
          30.4733,
          26.5362,
          18.4394,
          44.473,
          27.7704,
          38.5089,
          42.5571,
          32.3541,
          40.4915,
          47.449,
          29.9934,
          39.7173,
          37.0906,
          40.7772,
          45.7227,
          41.5349,
          31.8067,
          40.9675,
          39.2232,
          44.5202,
          31.0649,
          45.7769,
          43.1399,
          43.8794,
          44.2541,
          33.6636,
          30.4832,
          37.0608,
          56.8017,
          32.1276,
          38.534,
          32.4113,
          40.4812,
          46.3979,
          38.755,
          35.8776,
          44.4851,
          55.3556,
          39.1754,
          41.1557,
          41.5942,
          45.8077,
          34.7294,
          44.2574,
          37.3255,
          43.1073,
          46.7741,
          38.8521,
          15.119,
          48.2594,
          70.1948,
          14.331,
          32.896,
          40.4409,
          38.8181,
          24.5561,
          26.6832,
          39.8439,
          42.4818,
          40.2767,
          30.1945,
          41.8846,
          37.6241,
          56.4843,
          40.7952,
          42.9084,
          31.3274,
          46.3536,
          40.6925,
          39.4986,
          47.6199,
          17.7019,
          42.9113,
          41.393,
          38.1744,
          37.701,
          41.6693,
          19.7388,
          21.976,
          42.2349,
          33.6757,
          36.1245,
          32.3006,
          58.6768,
          39.8584,
          43.1189,
          40.1935,
          44.8074,
          36.7762,
          36.2819,
          36.587,
          43.1112,
          42.7481,
          40.6642,
          45.5453,
          44.8653,
          36.0978,
          33.6797,
          45.8184,
          47.5094,
          43.5048,
          45.0781,
          32.3849,
          21.3187,
          47.9493,
          40.509,
          48.5662,
          41.312,
          37.619,
          33.6404,
          32.4466,
          32.1161,
          26.2285,
          42.082,
          45.9548,
          29.3742,
          36.1984,
          42.7787,
          43.9919,
          43.5146,
          32.3112,
          41.3025,
          37.1319,
          32.5109,
          38.8449,
          31.3577,
          33.8292,
          18.3373,
          32.3331,
          31.259,
          39.8719,
          46.3745,
          46.2508,
          40.8249,
          35.214,
          32.8471,
          38.038,
          41.067,
          60.7798,
          33.9425,
          43.5329,
          40.7884,
          34.8957,
          34.6404,
          37.3619,
          42.9405,
          37.9275,
          43.6073,
          29.6454,
          33.5629,
          35.1385,
          27.5437,
          33.9888,
          39.6426,
          43.6462,
          18.0083,
          41.2531,
          35.3366,
          41.5041,
          44.8806,
          42.2085,
          45.4491,
          29.5337,
          40.6398,
          33.37,
          27.3953,
          43.4171,
          47.3866
         ],
         "legendgroup": "",
         "lon": [
          -119.119,
          -82.5418,
          -78.4529,
          -103.596,
          -135.707,
          -144.796,
          -98.6782,
          -111.118,
          -98.2386,
          -77.3197,
          -93.3869,
          -83.7435,
          -112.008,
          -87.9045,
          -71.4371,
          -96.7592,
          -104.7,
          -83.2767,
          -83.3488,
          -77.6121,
          -85.5228,
          -75.4404,
          0,
          -96.3844,
          -122.538,
          -84.3503,
          -105.539,
          -156.43,
          -78.88,
          -115.152,
          -77.9026,
          -101.706,
          -120.642,
          -145.478,
          -106.609,
          -92.1936,
          -139.66,
          -80.1527,
          -79.4048,
          -88.2781,
          -119.057,
          -107.754,
          -95.3397,
          -77.8463,
          -84.9389,
          -81.4425,
          -114.255,
          -85.1952,
          -104.531,
          -89.0972,
          -88.9159,
          -156.766,
          -134.576,
          -81.6879,
          -71.8757,
          -96.7417,
          -122.873,
          0,
          -93.2234,
          -152.494,
          -84.6622,
          -116.223,
          -86.3185,
          -123.219,
          -87.8966,
          -103.057,
          -83.8078,
          -94.0207,
          -111.983,
          -96.6708,
          -88.4891,
          -82.5332,
          -97.2305,
          -93.2005,
          -97.4331,
          -111.655,
          -94.4983,
          -87.7524,
          -108.527,
          -74.5772,
          -81.1195,
          -98.9088,
          -97.6007,
          -85.5822,
          -92.498,
          -103.217,
          -120.458,
          -76.4584,
          -77.0429,
          -93.991,
          -90.7092,
          -165.445,
          -118.358,
          -89.9767,
          -91.1496,
          -84.1945,
          -67.1294,
          -94.7139,
          -84.2194,
          -81.0581,
          -106.088,
          -102.802,
          -80.2906,
          -111.371,
          -84.7967,
          -76.8914,
          -104.497,
          -81.5932,
          -76.2012,
          -118.152,
          -85.4496,
          -117.601,
          -119.84,
          -88.2428,
          -90.5075,
          -81.8494,
          -122.598,
          -72.6832,
          -80.0405,
          -82.4074,
          -122.221,
          -82.2718,
          -89.3371,
          -85.2038,
          -147.86,
          -88.5914,
          -103.642,
          -91.9877,
          -117.19,
          -86.2382,
          -78.8964,
          -176.646,
          -81.9905,
          -97.4259,
          -82.8919,
          -158.503,
          -149.996,
          -71.4282,
          -89.4675,
          -135.362,
          -114.091,
          -75.7243,
          -96.815,
          -124.109,
          -162.599,
          -71.0052,
          -83.9929,
          -96.3638,
          -98.4166,
          -77.4558,
          -81.316,
          -102.202,
          -84.6054,
          -89.0701,
          -80.6458,
          -90.36,
          -155.048,
          -114.606,
          -121.591,
          -89.6668,
          -87.1874,
          -81.7552,
          -66.0018,
          -73.1503,
          -97.5012,
          -107.894,
          -92.4003,
          -95.4024,
          -80.2329,
          -122.309,
          -90.258,
          -86.2944,
          -113.593,
          -73.8726,
          -87.0937,
          -93.6607,
          -106.378,
          -98.3086,
          -106.869,
          -109.024,
          -97.8278,
          -111.153,
          -89.3375,
          -91.2565,
          -121.15,
          -101.823,
          -86.5254,
          -88.7738,
          -132.945,
          -81.2021,
          -106.933,
          -99.6819,
          -107.218,
          -94.1372,
          -109.755,
          -78.7875,
          -88.1296,
          -131.714,
          -76.6682,
          -104.812,
          -109.065,
          -108.543,
          -92.2243,
          -88.5195,
          -79.9754,
          -78.9454,
          -100.747,
          -77.0377,
          145.729,
          -101.28,
          -148.465,
          -170.711,
          -97.0372,
          -109.51,
          -92.2196,
          -81.7596,
          -80.0956,
          -89.6776,
          -114.488,
          -74.8135,
          -97.6699,
          -91.7109,
          -118.838,
          -132.37,
          -73.1002,
          -106.464,
          -92.5486,
          -87.3954,
          -74.1687,
          -119.768,
          -117.534,
          -64.7986,
          -112.596,
          -70.6143,
          -85.736,
          -113.099,
          -70.2804,
          -156.046,
          -159.339,
          -85.5521,
          -117.868,
          -86.6782,
          -86.394,
          -156.649,
          -104.667,
          -77.6724,
          -76.7634,
          -68.8281,
          -119.718,
          -94.3068,
          -121.843,
          -76.1063,
          -73.803,
          -89.6933,
          -94.0583,
          -91.4851,
          -79.9373,
          -78.9283,
          -88.1145,
          -94.9337,
          -114.297,
          -83.5603,
          -94.7117,
          -157.922,
          -97.1761,
          -122.293,
          -93.4031,
          -105.675,
          -122.375,
          -84.4269,
          -93.8256,
          -110.941,
          -97.6544,
          -80.1762,
          -112.497,
          -100.927,
          -95.8882,
          -84.5874,
          -76.0217,
          -112.07,
          -90.0759,
          -95.8942,
          -76.493,
          -92.0377,
          -99.274,
          -100.496,
          -116.506,
          -64.9734,
          -88.7512,
          -81.4663,
          -75.2411,
          -117.015,
          -84.4724,
          -115.792,
          -80.9431,
          -96.8518,
          -87.5306,
          -73.7076,
          -161.838,
          -118.408,
          -84.0797,
          -111.978,
          -82.2189,
          -86.7731,
          -121.929,
          -78.7322,
          -100.724,
          -110.738,
          -95.2789,
          -86.7535,
          -111.671,
          -99.4615,
          -98.4919,
          -106.918,
          -70.3087,
          -66.563,
          -70.0602,
          -94.3674,
          -74.1048,
          -93.2169,
          -75.9796,
          -98.4218,
          -98.4698,
          -73.7789,
          -81.9645,
          -82.5541,
          -124.246,
          -92.839
         ],
         "marker": {
          "color": [
           7045,
           10853,
           9090,
           626,
           82,
           839,
           990,
           264,
           5596,
           29175,
           11145,
           4400,
           178450,
           401679,
           11083,
           3760,
           10953,
           1036,
           176542,
           3441,
           21927,
           6542,
           1360,
           1345,
           3315,
           6577,
           773,
           27323,
           4134,
           168521,
           9073,
           5885,
           5583,
           722,
           26447,
           3378,
           722,
           98451,
           1119,
           2903,
           2470,
           4375,
           180096,
           5159,
           1274,
           7789,
           4768,
           7654,
           1384,
           749,
           3079,
           728,
           4515,
           35521,
           1738,
           8684,
           9020,
           6611,
           1976,
           641,
           51837,
           25500,
           7707,
           8913,
           35190,
           6318,
           2120,
           1001,
           2437,
           1983,
           728,
           77287,
           1799,
           231,
           11873,
           5721,
           1387,
           84222,
           4923,
           3113,
           11430,
           624,
           25975,
           5677,
           4241,
           748,
           193,
           2996,
           2574,
           1242,
           1049,
           722,
           32481,
           27664,
           7711,
           1005,
           2305,
           56004,
           16760,
           3310,
           2848,
           645,
           89209,
           3177,
           1086,
           2764,
           938,
           5269,
           27175,
           16024,
           1376,
           23182,
           7827,
           6788,
           6767,
           52178,
           86655,
           29538,
           27554,
           4359,
           53660,
           5203,
           709,
           10263,
           4872,
           1184,
           1688,
           5233,
           99277,
           727,
           708,
           104,
           5355,
           2726,
           50306,
           82,
           19727,
           19856,
           806,
           1346,
           5886,
           6056,
           7608,
           2015,
           720,
           152715,
           21194,
           2266,
           1334,
           93417,
           143129,
           9976,
           12498,
           4573,
           2626,
           75722,
           6115,
           1920,
           57282,
           3570,
           12864,
           34474,
           26831,
           11996,
           5909,
           2966,
           700,
           1568,
           50775,
           192978,
           58358,
           51857,
           2601,
           171957,
           626,
           18538,
           19730,
           1142,
           6584,
           1110,
           3396,
           8404,
           16263,
           2199,
           8942,
           7554,
           8832,
           1296,
           724,
           18820,
           834,
           2272,
           1767,
           636,
           623,
           70322,
           6393,
           2383,
           105674,
           515,
           735,
           5422,
           15250,
           6851,
           7446,
           845,
           5403,
           143578,
           473,
           2903,
           988,
           120,
           304865,
           627,
           3284,
           5681,
           26099,
           1798,
           1040,
           3013,
           67187,
           10750,
           568,
           724,
           6460,
           2318,
           3272,
           1412,
           158824,
           23601,
           22191,
           894,
           1090,
           552,
           28334,
           763,
           83,
           15484,
           14064,
           3821,
           44574,
           83819,
           4688,
           61,
           286947,
           18947,
           11486,
           5759,
           12664,
           15712,
           4846,
           17775,
           17632,
           5988,
           136,
           728,
           18654,
           12096,
           678,
           742,
           1825,
           628,
           939,
           56562,
           2113,
           1391,
           648,
           626,
           176253,
           395695,
           7095,
           19869,
           4489,
           2610,
           677,
           723,
           18495,
           4050,
           721,
           2896,
           8461,
           27448,
           4000,
           2939,
           1251,
           1881,
           12460,
           3753,
           976,
           1037,
           156990,
           992,
           677,
           676,
           256465,
           74764,
           5539,
           12623,
           827,
           248989,
           2978,
           121013,
           18222,
           11283,
           70567,
           28766,
           728,
           4803,
           60415,
           20865,
           2542,
           2676,
           1257,
           2379,
           14656,
           826,
           1436,
           2165,
           2888,
           161892,
           958,
           751,
           42433,
           127260,
           5362,
           8505,
           383,
           626
          ],
          "coloraxis": "coloraxis",
          "size": [
           7045,
           10853,
           9090,
           626,
           82,
           839,
           990,
           264,
           5596,
           29175,
           11145,
           4400,
           178450,
           401679,
           11083,
           3760,
           10953,
           1036,
           176542,
           3441,
           21927,
           6542,
           1360,
           1345,
           3315,
           6577,
           773,
           27323,
           4134,
           168521,
           9073,
           5885,
           5583,
           722,
           26447,
           3378,
           722,
           98451,
           1119,
           2903,
           2470,
           4375,
           180096,
           5159,
           1274,
           7789,
           4768,
           7654,
           1384,
           749,
           3079,
           728,
           4515,
           35521,
           1738,
           8684,
           9020,
           6611,
           1976,
           641,
           51837,
           25500,
           7707,
           8913,
           35190,
           6318,
           2120,
           1001,
           2437,
           1983,
           728,
           77287,
           1799,
           231,
           11873,
           5721,
           1387,
           84222,
           4923,
           3113,
           11430,
           624,
           25975,
           5677,
           4241,
           748,
           193,
           2996,
           2574,
           1242,
           1049,
           722,
           32481,
           27664,
           7711,
           1005,
           2305,
           56004,
           16760,
           3310,
           2848,
           645,
           89209,
           3177,
           1086,
           2764,
           938,
           5269,
           27175,
           16024,
           1376,
           23182,
           7827,
           6788,
           6767,
           52178,
           86655,
           29538,
           27554,
           4359,
           53660,
           5203,
           709,
           10263,
           4872,
           1184,
           1688,
           5233,
           99277,
           727,
           708,
           104,
           5355,
           2726,
           50306,
           82,
           19727,
           19856,
           806,
           1346,
           5886,
           6056,
           7608,
           2015,
           720,
           152715,
           21194,
           2266,
           1334,
           93417,
           143129,
           9976,
           12498,
           4573,
           2626,
           75722,
           6115,
           1920,
           57282,
           3570,
           12864,
           34474,
           26831,
           11996,
           5909,
           2966,
           700,
           1568,
           50775,
           192978,
           58358,
           51857,
           2601,
           171957,
           626,
           18538,
           19730,
           1142,
           6584,
           1110,
           3396,
           8404,
           16263,
           2199,
           8942,
           7554,
           8832,
           1296,
           724,
           18820,
           834,
           2272,
           1767,
           636,
           623,
           70322,
           6393,
           2383,
           105674,
           515,
           735,
           5422,
           15250,
           6851,
           7446,
           845,
           5403,
           143578,
           473,
           2903,
           988,
           120,
           304865,
           627,
           3284,
           5681,
           26099,
           1798,
           1040,
           3013,
           67187,
           10750,
           568,
           724,
           6460,
           2318,
           3272,
           1412,
           158824,
           23601,
           22191,
           894,
           1090,
           552,
           28334,
           763,
           83,
           15484,
           14064,
           3821,
           44574,
           83819,
           4688,
           61,
           286947,
           18947,
           11486,
           5759,
           12664,
           15712,
           4846,
           17775,
           17632,
           5988,
           136,
           728,
           18654,
           12096,
           678,
           742,
           1825,
           628,
           939,
           56562,
           2113,
           1391,
           648,
           626,
           176253,
           395695,
           7095,
           19869,
           4489,
           2610,
           677,
           723,
           18495,
           4050,
           721,
           2896,
           8461,
           27448,
           4000,
           2939,
           1251,
           1881,
           12460,
           3753,
           976,
           1037,
           156990,
           992,
           677,
           676,
           256465,
           74764,
           5539,
           12623,
           827,
           248989,
           2978,
           121013,
           18222,
           11283,
           70567,
           28766,
           728,
           4803,
           60415,
           20865,
           2542,
           2676,
           1257,
           2379,
           14656,
           826,
           1436,
           2165,
           2888,
           161892,
           958,
           751,
           42433,
           127260,
           5362,
           8505,
           383,
           626
          ],
          "sizemode": "area",
          "sizeref": 1004.1975
         },
         "mode": "markers",
         "name": "",
         "showlegend": false,
         "subplot": "mapbox",
         "type": "scattermapbox"
        }
       ],
       "layout": {
        "autosize": true,
        "coloraxis": {
         "colorbar": {
          "title": {
           "text": "flights"
          }
         },
         "colorscale": [
          [
           0,
           "#000000"
          ],
          [
           0.0625,
           "#001f4d"
          ],
          [
           0.125,
           "#003786"
          ],
          [
           0.1875,
           "#0e58a8"
          ],
          [
           0.25,
           "#217eb8"
          ],
          [
           0.3125,
           "#30a4ca"
          ],
          [
           0.375,
           "#54c8df"
          ],
          [
           0.4375,
           "#9be4ef"
          ],
          [
           0.5,
           "#e1e9d1"
          ],
          [
           0.5625,
           "#f3d573"
          ],
          [
           0.625,
           "#e7b000"
          ],
          [
           0.6875,
           "#da8200"
          ],
          [
           0.75,
           "#c65400"
          ],
          [
           0.8125,
           "#ac2301"
          ],
          [
           0.875,
           "#820000"
          ],
          [
           0.9375,
           "#4c0000"
          ],
          [
           1,
           "#000000"
          ]
         ]
        },
        "legend": {
         "itemsizing": "constant",
         "tracegroupgap": 0
        },
        "mapbox": {
         "bearing": 0,
         "center": {
          "lat": 45.394147628211584,
          "lon": -140.51770950702297
         },
         "domain": {
          "x": [
           0,
           1
          ],
          "y": [
           0,
           1
          ]
         },
         "pitch": 0,
         "style": "open-street-map",
         "zoom": 20.713428188723366
        },
        "margin": {
         "b": 0,
         "l": 0,
         "r": 0,
         "t": 0
        },
        "template": {
         "data": {
          "bar": [
           {
            "error_x": {
             "color": "#2a3f5f"
            },
            "error_y": {
             "color": "#2a3f5f"
            },
            "marker": {
             "line": {
              "color": "#E5ECF6",
              "width": 0.5
             }
            },
            "type": "bar"
           }
          ],
          "barpolar": [
           {
            "marker": {
             "line": {
              "color": "#E5ECF6",
              "width": 0.5
             }
            },
            "type": "barpolar"
           }
          ],
          "carpet": [
           {
            "aaxis": {
             "endlinecolor": "#2a3f5f",
             "gridcolor": "white",
             "linecolor": "white",
             "minorgridcolor": "white",
             "startlinecolor": "#2a3f5f"
            },
            "baxis": {
             "endlinecolor": "#2a3f5f",
             "gridcolor": "white",
             "linecolor": "white",
             "minorgridcolor": "white",
             "startlinecolor": "#2a3f5f"
            },
            "type": "carpet"
           }
          ],
          "choropleth": [
           {
            "colorbar": {
             "outlinewidth": 0,
             "ticks": ""
            },
            "type": "choropleth"
           }
          ],
          "contour": [
           {
            "colorbar": {
             "outlinewidth": 0,
             "ticks": ""
            },
            "colorscale": [
             [
              0,
              "#0d0887"
             ],
             [
              0.1111111111111111,
              "#46039f"
             ],
             [
              0.2222222222222222,
              "#7201a8"
             ],
             [
              0.3333333333333333,
              "#9c179e"
             ],
             [
              0.4444444444444444,
              "#bd3786"
             ],
             [
              0.5555555555555556,
              "#d8576b"
             ],
             [
              0.6666666666666666,
              "#ed7953"
             ],
             [
              0.7777777777777778,
              "#fb9f3a"
             ],
             [
              0.8888888888888888,
              "#fdca26"
             ],
             [
              1,
              "#f0f921"
             ]
            ],
            "type": "contour"
           }
          ],
          "contourcarpet": [
           {
            "colorbar": {
             "outlinewidth": 0,
             "ticks": ""
            },
            "type": "contourcarpet"
           }
          ],
          "heatmap": [
           {
            "colorbar": {
             "outlinewidth": 0,
             "ticks": ""
            },
            "colorscale": [
             [
              0,
              "#0d0887"
             ],
             [
              0.1111111111111111,
              "#46039f"
             ],
             [
              0.2222222222222222,
              "#7201a8"
             ],
             [
              0.3333333333333333,
              "#9c179e"
             ],
             [
              0.4444444444444444,
              "#bd3786"
             ],
             [
              0.5555555555555556,
              "#d8576b"
             ],
             [
              0.6666666666666666,
              "#ed7953"
             ],
             [
              0.7777777777777778,
              "#fb9f3a"
             ],
             [
              0.8888888888888888,
              "#fdca26"
             ],
             [
              1,
              "#f0f921"
             ]
            ],
            "type": "heatmap"
           }
          ],
          "heatmapgl": [
           {
            "colorbar": {
             "outlinewidth": 0,
             "ticks": ""
            },
            "colorscale": [
             [
              0,
              "#0d0887"
             ],
             [
              0.1111111111111111,
              "#46039f"
             ],
             [
              0.2222222222222222,
              "#7201a8"
             ],
             [
              0.3333333333333333,
              "#9c179e"
             ],
             [
              0.4444444444444444,
              "#bd3786"
             ],
             [
              0.5555555555555556,
              "#d8576b"
             ],
             [
              0.6666666666666666,
              "#ed7953"
             ],
             [
              0.7777777777777778,
              "#fb9f3a"
             ],
             [
              0.8888888888888888,
              "#fdca26"
             ],
             [
              1,
              "#f0f921"
             ]
            ],
            "type": "heatmapgl"
           }
          ],
          "histogram": [
           {
            "marker": {
             "colorbar": {
              "outlinewidth": 0,
              "ticks": ""
             }
            },
            "type": "histogram"
           }
          ],
          "histogram2d": [
           {
            "colorbar": {
             "outlinewidth": 0,
             "ticks": ""
            },
            "colorscale": [
             [
              0,
              "#0d0887"
             ],
             [
              0.1111111111111111,
              "#46039f"
             ],
             [
              0.2222222222222222,
              "#7201a8"
             ],
             [
              0.3333333333333333,
              "#9c179e"
             ],
             [
              0.4444444444444444,
              "#bd3786"
             ],
             [
              0.5555555555555556,
              "#d8576b"
             ],
             [
              0.6666666666666666,
              "#ed7953"
             ],
             [
              0.7777777777777778,
              "#fb9f3a"
             ],
             [
              0.8888888888888888,
              "#fdca26"
             ],
             [
              1,
              "#f0f921"
             ]
            ],
            "type": "histogram2d"
           }
          ],
          "histogram2dcontour": [
           {
            "colorbar": {
             "outlinewidth": 0,
             "ticks": ""
            },
            "colorscale": [
             [
              0,
              "#0d0887"
             ],
             [
              0.1111111111111111,
              "#46039f"
             ],
             [
              0.2222222222222222,
              "#7201a8"
             ],
             [
              0.3333333333333333,
              "#9c179e"
             ],
             [
              0.4444444444444444,
              "#bd3786"
             ],
             [
              0.5555555555555556,
              "#d8576b"
             ],
             [
              0.6666666666666666,
              "#ed7953"
             ],
             [
              0.7777777777777778,
              "#fb9f3a"
             ],
             [
              0.8888888888888888,
              "#fdca26"
             ],
             [
              1,
              "#f0f921"
             ]
            ],
            "type": "histogram2dcontour"
           }
          ],
          "mesh3d": [
           {
            "colorbar": {
             "outlinewidth": 0,
             "ticks": ""
            },
            "type": "mesh3d"
           }
          ],
          "parcoords": [
           {
            "line": {
             "colorbar": {
              "outlinewidth": 0,
              "ticks": ""
             }
            },
            "type": "parcoords"
           }
          ],
          "pie": [
           {
            "automargin": true,
            "type": "pie"
           }
          ],
          "scatter": [
           {
            "marker": {
             "colorbar": {
              "outlinewidth": 0,
              "ticks": ""
             }
            },
            "type": "scatter"
           }
          ],
          "scatter3d": [
           {
            "line": {
             "colorbar": {
              "outlinewidth": 0,
              "ticks": ""
             }
            },
            "marker": {
             "colorbar": {
              "outlinewidth": 0,
              "ticks": ""
             }
            },
            "type": "scatter3d"
           }
          ],
          "scattercarpet": [
           {
            "marker": {
             "colorbar": {
              "outlinewidth": 0,
              "ticks": ""
             }
            },
            "type": "scattercarpet"
           }
          ],
          "scattergeo": [
           {
            "marker": {
             "colorbar": {
              "outlinewidth": 0,
              "ticks": ""
             }
            },
            "type": "scattergeo"
           }
          ],
          "scattergl": [
           {
            "marker": {
             "colorbar": {
              "outlinewidth": 0,
              "ticks": ""
             }
            },
            "type": "scattergl"
           }
          ],
          "scattermapbox": [
           {
            "marker": {
             "colorbar": {
              "outlinewidth": 0,
              "ticks": ""
             }
            },
            "type": "scattermapbox"
           }
          ],
          "scatterpolar": [
           {
            "marker": {
             "colorbar": {
              "outlinewidth": 0,
              "ticks": ""
             }
            },
            "type": "scatterpolar"
           }
          ],
          "scatterpolargl": [
           {
            "marker": {
             "colorbar": {
              "outlinewidth": 0,
              "ticks": ""
             }
            },
            "type": "scatterpolargl"
           }
          ],
          "scatterternary": [
           {
            "marker": {
             "colorbar": {
              "outlinewidth": 0,
              "ticks": ""
             }
            },
            "type": "scatterternary"
           }
          ],
          "surface": [
           {
            "colorbar": {
             "outlinewidth": 0,
             "ticks": ""
            },
            "colorscale": [
             [
              0,
              "#0d0887"
             ],
             [
              0.1111111111111111,
              "#46039f"
             ],
             [
              0.2222222222222222,
              "#7201a8"
             ],
             [
              0.3333333333333333,
              "#9c179e"
             ],
             [
              0.4444444444444444,
              "#bd3786"
             ],
             [
              0.5555555555555556,
              "#d8576b"
             ],
             [
              0.6666666666666666,
              "#ed7953"
             ],
             [
              0.7777777777777778,
              "#fb9f3a"
             ],
             [
              0.8888888888888888,
              "#fdca26"
             ],
             [
              1,
              "#f0f921"
             ]
            ],
            "type": "surface"
           }
          ],
          "table": [
           {
            "cells": {
             "fill": {
              "color": "#EBF0F8"
             },
             "line": {
              "color": "white"
             }
            },
            "header": {
             "fill": {
              "color": "#C8D4E3"
             },
             "line": {
              "color": "white"
             }
            },
            "type": "table"
           }
          ]
         },
         "layout": {
          "annotationdefaults": {
           "arrowcolor": "#2a3f5f",
           "arrowhead": 0,
           "arrowwidth": 1
          },
          "autotypenumbers": "strict",
          "coloraxis": {
           "colorbar": {
            "outlinewidth": 0,
            "ticks": ""
           }
          },
          "colorscale": {
           "diverging": [
            [
             0,
             "#8e0152"
            ],
            [
             0.1,
             "#c51b7d"
            ],
            [
             0.2,
             "#de77ae"
            ],
            [
             0.3,
             "#f1b6da"
            ],
            [
             0.4,
             "#fde0ef"
            ],
            [
             0.5,
             "#f7f7f7"
            ],
            [
             0.6,
             "#e6f5d0"
            ],
            [
             0.7,
             "#b8e186"
            ],
            [
             0.8,
             "#7fbc41"
            ],
            [
             0.9,
             "#4d9221"
            ],
            [
             1,
             "#276419"
            ]
           ],
           "sequential": [
            [
             0,
             "#0d0887"
            ],
            [
             0.1111111111111111,
             "#46039f"
            ],
            [
             0.2222222222222222,
             "#7201a8"
            ],
            [
             0.3333333333333333,
             "#9c179e"
            ],
            [
             0.4444444444444444,
             "#bd3786"
            ],
            [
             0.5555555555555556,
             "#d8576b"
            ],
            [
             0.6666666666666666,
             "#ed7953"
            ],
            [
             0.7777777777777778,
             "#fb9f3a"
            ],
            [
             0.8888888888888888,
             "#fdca26"
            ],
            [
             1,
             "#f0f921"
            ]
           ],
           "sequentialminus": [
            [
             0,
             "#0d0887"
            ],
            [
             0.1111111111111111,
             "#46039f"
            ],
            [
             0.2222222222222222,
             "#7201a8"
            ],
            [
             0.3333333333333333,
             "#9c179e"
            ],
            [
             0.4444444444444444,
             "#bd3786"
            ],
            [
             0.5555555555555556,
             "#d8576b"
            ],
            [
             0.6666666666666666,
             "#ed7953"
            ],
            [
             0.7777777777777778,
             "#fb9f3a"
            ],
            [
             0.8888888888888888,
             "#fdca26"
            ],
            [
             1,
             "#f0f921"
            ]
           ]
          },
          "colorway": [
           "#636efa",
           "#EF553B",
           "#00cc96",
           "#ab63fa",
           "#FFA15A",
           "#19d3f3",
           "#FF6692",
           "#B6E880",
           "#FF97FF",
           "#FECB52"
          ],
          "font": {
           "color": "#2a3f5f"
          },
          "geo": {
           "bgcolor": "white",
           "lakecolor": "white",
           "landcolor": "#E5ECF6",
           "showlakes": true,
           "showland": true,
           "subunitcolor": "white"
          },
          "hoverlabel": {
           "align": "left"
          },
          "hovermode": "closest",
          "mapbox": {
           "style": "light"
          },
          "paper_bgcolor": "white",
          "plot_bgcolor": "#E5ECF6",
          "polar": {
           "angularaxis": {
            "gridcolor": "white",
            "linecolor": "white",
            "ticks": ""
           },
           "bgcolor": "#E5ECF6",
           "radialaxis": {
            "gridcolor": "white",
            "linecolor": "white",
            "ticks": ""
           }
          },
          "scene": {
           "xaxis": {
            "backgroundcolor": "#E5ECF6",
            "gridcolor": "white",
            "gridwidth": 2,
            "linecolor": "white",
            "showbackground": true,
            "ticks": "",
            "zerolinecolor": "white"
           },
           "yaxis": {
            "backgroundcolor": "#E5ECF6",
            "gridcolor": "white",
            "gridwidth": 2,
            "linecolor": "white",
            "showbackground": true,
            "ticks": "",
            "zerolinecolor": "white"
           },
           "zaxis": {
            "backgroundcolor": "#E5ECF6",
            "gridcolor": "white",
            "gridwidth": 2,
            "linecolor": "white",
            "showbackground": true,
            "ticks": "",
            "zerolinecolor": "white"
           }
          },
          "shapedefaults": {
           "line": {
            "color": "#2a3f5f"
           }
          },
          "ternary": {
           "aaxis": {
            "gridcolor": "white",
            "linecolor": "white",
            "ticks": ""
           },
           "baxis": {
            "gridcolor": "white",
            "linecolor": "white",
            "ticks": ""
           },
           "bgcolor": "#E5ECF6",
           "caxis": {
            "gridcolor": "white",
            "linecolor": "white",
            "ticks": ""
           }
          },
          "title": {
           "x": 0.05
          },
          "xaxis": {
           "automargin": true,
           "gridcolor": "white",
           "linecolor": "white",
           "ticks": "",
           "title": {
            "standoff": 15
           },
           "zerolinecolor": "white",
           "zerolinewidth": 2
          },
          "yaxis": {
           "automargin": true,
           "gridcolor": "white",
           "linecolor": "white",
           "ticks": "",
           "title": {
            "standoff": 15
           },
           "zerolinecolor": "white",
           "zerolinewidth": 2
          }
         }
        }
       }
      },
      "image/png": "[encoded data removed]",
      "text/html": [
       "<div>                            <div id=\"e980f353-db07-4d94-8380-a10f4e5f15a3\" class=\"plotly-graph-div\" style=\"height:300px; width:100%;\"></div>            <script type=\"text/javascript\">                require([\"plotly\"], function(Plotly) {                    window.PLOTLYENV=window.PLOTLYENV || {};                                    if (document.getElementById(\"e980f353-db07-4d94-8380-a10f4e5f15a3\")) {                    Plotly.newPlot(                        \"e980f353-db07-4d94-8380-a10f4e5f15a3\",                        [{\"customdata\": [[7045], [10853], [9090], [626], [82], [839], [990], [264], [5596], [29175], [11145], [4400], [178450], [401679], [11083], [3760], [10953], [1036], [176542], [3441], [21927], [6542], [1360], [1345], [3315], [6577], [773], [27323], [4134], [168521], [9073], [5885], [5583], [722], [26447], [3378], [722], [98451], [1119], [2903], [2470], [4375], [180096], [5159], [1274], [7789], [4768], [7654], [1384], [749], [3079], [728], [4515], [35521], [1738], [8684], [9020], [6611], [1976], [641], [51837], [25500], [7707], [8913], [35190], [6318], [2120], [1001], [2437], [1983], [728], [77287], [1799], [231], [11873], [5721], [1387], [84222], [4923], [3113], [11430], [624], [25975], [5677], [4241], [748], [193], [2996], [2574], [1242], [1049], [722], [32481], [27664], [7711], [1005], [2305], [56004], [16760], [3310], [2848], [645], [89209], [3177], [1086], [2764], [938], [5269], [27175], [16024], [1376], [23182], [7827], [6788], [6767], [52178], [86655], [29538], [27554], [4359], [53660], [5203], [709], [10263], [4872], [1184], [1688], [5233], [99277], [727], [708], [104], [5355], [2726], [50306], [82], [19727], [19856], [806], [1346], [5886], [6056], [7608], [2015], [720], [152715], [21194], [2266], [1334], [93417], [143129], [9976], [12498], [4573], [2626], [75722], [6115], [1920], [57282], [3570], [12864], [34474], [26831], [11996], [5909], [2966], [700], [1568], [50775], [192978], [58358], [51857], [2601], [171957], [626], [18538], [19730], [1142], [6584], [1110], [3396], [8404], [16263], [2199], [8942], [7554], [8832], [1296], [724], [18820], [834], [2272], [1767], [636], [623], [70322], [6393], [2383], [105674], [515], [735], [5422], [15250], [6851], [7446], [845], [5403], [143578], [473], [2903], [988], [120], [304865], [627], [3284], [5681], [26099], [1798], [1040], [3013], [67187], [10750], [568], [724], [6460], [2318], [3272], [1412], [158824], [23601], [22191], [894], [1090], [552], [28334], [763], [83], [15484], [14064], [3821], [44574], [83819], [4688], [61], [286947], [18947], [11486], [5759], [12664], [15712], [4846], [17775], [17632], [5988], [136], [728], [18654], [12096], [678], [742], [1825], [628], [939], [56562], [2113], [1391], [648], [626], [176253], [395695], [7095], [19869], [4489], [2610], [677], [723], [18495], [4050], [721], [2896], [8461], [27448], [4000], [2939], [1251], [1881], [12460], [3753], [976], [1037], [156990], [992], [677], [676], [256465], [74764], [5539], [12623], [827], [248989], [2978], [121013], [18222], [11283], [70567], [28766], [728], [4803], [60415], [20865], [2542], [2676], [1257], [2379], [14656], [826], [1436], [2165], [2888], [161892], [958], [751], [42433], [127260], [5362], [8505], [383], [626]], \"hovertemplate\": \"<b>%{hovertext}</b><br><br>flights=%{marker.color}<br>latitude=%{lat}<br>longitude=%{lon}<extra></extra>\", \"hovertext\": [\"Tri-Cities Airport\", \"Asheville Regional Airport\", \"Charlottesville-Albemarle Airport\", \"Western Neb. Rgnl/William B. Heilig Airport\", \"Gustavus Airport\", \"Guam International Airport\", \"Jamestown Regional Airport\", \"Westerly State Airport\", \"McAllen-Miller International Airport\\u00a0(McAllen Miller International)\", \"Richmond International Airport\", \"Springfield-Branson National Airport\", \"Bishop International Airport\", \"Phoenix Sky Harbor International Airport\", \"Chicago O'Hare International Airport\", \"Manchester-Boston Regional Airport\", \"Lincoln Airport\\u00a0(Lincoln Municipal)\", \"City of Colorado Springs Municipal Airport\", \"Valdosta Regional Airport\", \"Detroit Metropolitan Airport\", \"Albert J. Ellis Airport\", \"Gerald R. Ford International Airport\", \"Lehigh Valley International Airport\", \"Plattsburgh International Airport\", \"Sioux Gateway Airport\", \"Bellingham International Airport\", \"Tallahassee International Airport\", \"Gillette-Campbell County Airport\", \"Kahului Airport\", \"Fayetteville Regional Airport\", \"McCarran International Airport\", \"Wilmington International Airport\", \"Rick Husband Amarillo International Airport\", \"San Luis Obispo County Regional Airport\\u00a0(McChesney Field)\", \"Merle K. (Mudhole) Smith Airport\", \"Albuquerque International Sunport\", \"Duluth International Airport\", \"Yakutat Airport\", \"Fort Lauderdale-Hollywood International Airport\", \"Arnold Palmer Regional Airport\", \"University of Illinois - Willard Airport\", \"Meadows Field\", \"Durango-La Plata County Airport\", \"George Bush Intercontinental Airport\", \"University Park Airport\", \"Columbus Metropolitan Airport\", \"Akron-Canton Regional Airport\", \"Glacier Park International Airport\", \"Fort Wayne International Airport\", \"Roswell International Air Center\", \"Chicago Rockford International Airport\", \"Central Illinois Regional Airport at Bloomington-Normal\", \"Wiley Post-Will Rogers Memorial Airport\", \"Juneau International Airport\", \"Jacksonville International Airport\", \"Worcester Regional Airport\", \"Sioux Falls Regional Airport\", \"Rogue Valley International Airport\", \"Northwest Florida Beaches International Airport\", \"Lake Charles Regional Airport\", \"Kodiak Airport\", \"Cincinnati/Northern Kentucky International Airport\", \"Boise Airport\\u00a0(Boise Air Terminal)\", \"South Bend International Airport\\u00a0(South Bend Regional)\", \"Eugene Airport\\u00a0(Mahlon Sweet Field)\", \"General Mitchell International Airport\", \"Rapid City Regional Airport\", \"Toledo Express Airport\", \"Jack Brooks Regional Airport\\u00a0(Southeast Texas Regional)\", \"Helena Regional Airport\", \"Manhattan Regional Airport\", \"Houghton County Memorial Airport\", \"Tampa International Airport\", \"Waco Regional Airport\", \"Branson\", \"Wichita Dwight D. Eisenhower National Airport\\u00a0(Wichita Mid-Continent Airport)\", \"Phoenix-Mesa-Gateway Airport\", \"Joplin Regional Airport\", \"Chicago Midway International Airport\", \"Grand Junction Regional Airport\\u00a0(Walker Field)\", \"Atlantic City International Airport\", \"Columbia Metropolitan Airport\", \"Devils Lake Regional Airport\", \"Will Rogers World Airport\", \"Cherry Capital Airport\", \"Rochester International Airport\", \"Lea County Regional Airport\", \"Santa Maria Public Airport\\u00a0(Capt G. Allan Hancock Field)\", \"Ithaca Tompkins Regional Airport\", \"Coastal Carolina Regional Airport\\u00a0(Craven County Regional)\", \"Texarkana Regional Airport\\u00a0(Webb Field)\", \"Dubuque Regional Airport\", \"Nome Airport\", \"Bob Hope Airport\\u00a0(Hollywood Burbank Airport)\", \"Memphis International Airport\", \"Baton Rouge Metropolitan Airport\", \"Southwest Georgia Regional Airport\", \"Rafael Hern\\u00e1ndez Airport\", \"Kansas City International Airport\", \"James M. Cox Dayton International Airport\", \"Daytona Beach International Airport\", \"Santa Fe Municipal Airport\", \"Dickinson Theodore Roosevelt Regional Airport\", \"Miami International Airport\", \"Great Falls International Airport\", \"Pellston Regional Airport of Emmet County\", \"Elmira/Corning Regional Airport\", \"Pueblo Memorial Airport\", \"Yeager Airport\", \"Norfolk International Airport\", \"Long Beach Airport\\u00a0(Daugherty Field)\", \"Dothan Regional Airport\", \"Ontario International Airport\", \"Santa Barbara Municipal Airport\\u00a0(Santa Barbara Airport)\", \"Mobile Regional Airport\", \"Quad City International Airport\", \"Cleveland Hopkins International Airport\", \"Portland International Airport\", \"Bradley International Airport\", \"Charleston International Airport/Charleston AFB\", \"Tri-Cities Regional Airport\", \"Oakland International Airport\", \"Gainesville Regional Airport\", \"Hattiesburg-Laurel Regional Airport\", \"Chattanooga Metropolitan Airport\\u00a0(Lovell Field)\", \"Fairbanks International Airport\", \"Golden Triangle Regional Airport\", \"Sloulin Field International Airport\", \"Lafayette Regional Airport\", \"San Diego International Airport\\u00a0(Lindbergh Field)\", \"Muskegon County Airport\", \"Shenandoah Valley Regional Airport\", \"Adak Airport\", \"Charlotte County Airport\", \"Brownsville/South Padre Island International Airport\", \"Port Columbus International Airport\", \"Dillingham Airport\", \"Ted Stevens Anchorage International Airport\", \"Theodore Francis Green State Airport\", \"Rhinelander-Oneida County Airport\", \"Sitka Rocky Gutierrez Airport\", \"Missoula International Airport\", \"Wilkes-Barre/Scranton International Airport\", \"Hector International Airport\", \"Arcata Airport\", \"Ralph Wien Memorial Airport\", \"Gen. Edward Lawrence Logan International Airport\", \"McGhee Tyson Airport\", \"Easterwood Airport\", \"Lawton-Fort Sill Regional Airport\", \"Washington Dulles International Airport\", \"Orlando International Airport\", \"Midland International Airport\", \"Blue Grass Airport\", \"Gulfport-Biloxi International Airport\", \"Melbourne International Airport\", \"St. Louis International Airport at Lambert Field\", \"Hilo International Airport\", \"Yuma International Airport\", \"Sacramento International Airport\", \"Central Wisconsin Airport\", \"Pensacola International Airport\\u00a0(Pensacola Gulf Coast Regional Airport)\", \"Southwest Florida International Airport\", \"Luis Mu\\u00f1oz Mar\\u00edn International Airport\", \"Burlington International Airport\", \"Corpus Christi International Airport\", \"Montrose Regional Airport\", \"Waterloo Regional Airport\", \"Tyler Pounds Regional Airport\", \"Pittsburgh International Airport\", \"Seattle-Tacoma International Airport\", \"Louis Armstrong New Orleans International Airport\", \"Indianapolis International Airport\", \"St. George Regional Airport\", \"LaGuardia Airport (Marine Air Terminal)\", \"Delta County Airport\", \"Des Moines International Airport\", \"El Paso International Airport\", \"Central Nebraska Regional Airport\", \"Aspen-Pitkin County Airport\", \"Yellowstone Regional Airport\", \"Killeen-Fort Hood Regional Airport\", \"Bozeman Yellowstone International Airport\\u00a0(Gallatin Field Airport)\", \"Dane County Regional Airport\", \"La Crosse Regional Airport\", \"Redmond Municipal Airport\\u00a0(Roberts Field)\", \"Lubbock Preston Smith International Airport\", \"Destin-Fort Walton Beach Airport/Eglin AFB\", \"Barkley Regional Airport\", \"Petersburg James A. Johnson Airport\", \"Savannah/Hilton Head International Airport\", \"Gunnison-Crested Butte Regional Airport\", \"Abilene Regional Airport\", \"Yampa Valley Airport\\u00a0(Yampa Valley Regional)\", \"Brainerd Lakes Regional Airport\", \"Canyonlands Field\", \"Raleigh-Durham International Airport\", \"Green Bay-Austin Straubel International Airport\", \"Ketchikan International Airport\", \"Baltimore-Washington International Airport\", \"Cheyenne Regional Jerry Olson Field\", \"Rock Springs-Sweetwater County Airport\", \"Billings Logan International Airport\", \"Bill and Hillary Clinton National Airport\\u00a0(Adams Field)\", \"Appleton International Airport\", \"Roanoke Regional Airport\\u00a0(Woodrum Field)\", \"Niagara Falls International Airport\", \"Bismarck Municipal Airport\", \"Ronald Reagan Washington National Airport\", \"Saipan International Airport\", \"Minot International Airport\", \"Deadhorse Airport\\u00a0(Prudhoe Bay Airport)\", \"Pago Pago International Airport (Tafuna Airport)\", \"Dallas/Fort Worth International Airport\", \"Valdez Airport\", \"Columbia Regional Airport\", \"Key West International Airport\", \"Palm Beach International Airport\", \"Abraham Lincoln Capital Airport\", \"Magic Valley Regional Airport\\u00a0(Joslin Field)\", \"Trenton Mercer Airport\", \"Austin-Bergstrom International Airport\", \"The Eastern Iowa Airport\", \"Mammoth Yosemite Airport\", \"Wrangell Airport\", \"Long Island MacArthur Airport\", \"Natrona County International Airport\", \"Alexandria International Airport\", \"Sawyer International Airport\", \"Newark Liberty International Airport\", \"Reno/Tahoe International Airport\", \"Spokane International Airport\", \"Henry E. Rohlsen Airport\", \"Pocatello Regional Airport\", \"Martha's Vineyard Airport\", \"Louisville International Airport\\u00a0(Standiford Field)\", \"Cedar City Regional Airport\", \"Barnstable Municipal Airport\", \"Kona International Airport at Keahole\", \"Lihue Airport\", \"Kalamazoo/Battle Creek International Airport\", \"John Wayne Airport\\u00a0(Orange County Airport)\", \"Nashville International Airport\", \"Montgomery Regional Airport\", \"King Salmon Airport\", \"Denver International Airport\", \"Greater Rochester International Airport\", \"Harrisburg International Airport\", \"Bangor International Airport\", \"Fresno Yosemite International Airport\", \"Northwest Arkansas Regional Airport\", \"Monterey Regional Airport\\u00a0(Monterey Peninsula Airport)\", \"Syracuse Hancock International Airport\", \"Albany International Airport\", \"General Wayne A. Downing Peoria International Airport\", \"St. Cloud Regional Airport\", \"Chippewa Valley Regional Airport\", \"Piedmont Triad International Airport\", \"Myrtle Beach International Airport\", \"Ford Airport\", \"Bemidji Regional Airport\", \"Friedman Memorial Airport\", \"Alpena County Regional Airport\", \"East Texas Regional Airport\", \"Honolulu International Airport\", \"Grand Forks International Airport\", \"Redding Municipal Airport\", \"Falls International Airport\", \"Laramie Regional Airport\", \"San Francisco International Airport\", \"Hartsfield-Jackson Atlanta International Airport\", \"Shreveport Regional Airport\", \"Tucson International Airport\", \"Valley International Airport\", \"Erie International Airport\", \"Bert Mooney Airport\", \"Del Rio International Airport\", \"Tulsa International Airport\", \"Capital Region International Airport\\u00a0( Lansing Capital City)\", \"Watertown International Airport\", \"Idaho Falls Regional Airport\", \"Jackson-Evers International Airport\", \"Eppley Airfield\", \"Newport News/Williamsburg International Airport\", \"Monroe Regional Airport\", \"Hays Regional Airport\", \"San Angelo Regional Airport\\u00a0(Mathis Field)\", \"Palm Springs International Airport\", \"Cyril E. King Airport\", \"Meridian Regional Airport\", \"Brunswick Golden Isles Airport\", \"Philadelphia International Airport\", \"Lewiston-Nez Perce County Airport\", \"Chippewa County International Airport\", \"Elko Regional Airport\", \"Charlotte Douglas International Airport\", \"Dallas Love Field\", \"Evansville Regional Airport\", \"Westchester County Airport\", \"Bethel Airport\", \"Los Angeles International Airport\", \"MBS International Airport\", \"Salt Lake City International Airport\", \"Greenville-Spartanburg International Airport\", \"Huntsville International Airport\", \"Norman Y. Mineta San Jos\\u00e9 International Airport\", \"Buffalo Niagara International Airport\", \"Garden City Regional Airport\", \"Jackson Hole Airport\", \"William P. Hobby Airport\", \"Birmingham-Shuttlesworth International Airport\", \"Flagstaff Pulliam Airport\", \"Laredo International Airport\", \"Wichita Falls Municipal Airport/Sheppard AFB\", \"Eagle County Regional Airport\", \"Portland International Jetport\", \"Mercedita Airport\", \"Nantucket Memorial Airport\", \"Fort Smith Regional Airport\", \"Stewart International Airport\", \"Minneapolis-Saint Paul International Airport\", \"Greater Binghamton Airport\", \"Aberdeen Regional Airport\", \"San Antonio International Airport\", \"John F. Kennedy International Airport\\u00a0(New York International Airport)\", \"Augusta Regional Airport\\u00a0(Bush Field)\", \"Sarasota-Bradenton International Airport\", \"Southwest Oregon Regional Airport\\u00a0(North Bend Municipal)\", \"Range Regional Airport\\u00a0(Chisholm-Hibbing Airport)\"], \"lat\": [46.2647, 35.4362, 38.1386, 41.874, 58.4244, 13.4834, 46.9297, 44.6884, 26.1758, 37.5052, 37.2443, 42.9655, 33.4342, 41.9796, 42.9345, 40.851, 38.8058, 30.7825, 42.2121, 34.8292, 42.8808, 40.6524, 0.0, 42.4026, 48.7928, 30.3965, 44.3489, 20.8986, 34.9915, 36.0804, 34.2706, 35.2194, 35.2371, 60.4918, 35.0402, 46.8421, 59.5034, 26.0726, 40.2759, 40.0392, 35.4336, 37.1515, 29.9805, 40.8512, 32.5163, 40.9163, 48.3114, 40.9785, 33.3016, 42.1954, 40.478, 71.2855, 58.355, 30.4941, 42.2673, 43.5813, 42.3742, 0.0, 30.1261, 57.75, 39.0461, 43.5644, 41.709, 44.1233, 42.9472, 44.0453, 41.5868, 29.9508, 46.6068, 39.141, 47.1684, 27.9755, 31.6113, 36.532, 37.65, 33.3078, 37.1518, 41.786, 39.1224, 39.4576, 33.9388, 48.1143, 35.3931, 44.7414, 43.9088, 32.6875, 34.8993, 42.491, 35.073, 33.4537, 42.403, 64.5122, 34.2006, 35.0424, 30.5332, 31.5355, 18.4949, 39.2976, 39.9024, 29.1799, 35.6168, 46.7974, 25.7932, 47.482, 45.5709, 42.1599, 38.2891, 38.3731, 36.8946, 33.8177, 31.3213, 34.056, 34.4262, 30.6914, 41.4485, 41.4109, 45.5887, 41.9389, 32.8987, 36.4752, 37.7213, 29.6901, 31.4671, 35.0353, 64.8137, 33.4503, 48.1779, 30.2053, 32.7336, 43.1695, 38.2638, 51.878, 26.9202, 25.9068, 39.998, 59.0454, 61.1743, 41.724, 45.6312, 57.0471, 46.9163, 41.3382, 46.9193, 40.9781, 66.8847, 42.3643, 35.8125, 30.5886, 34.5677, 38.9445, 28.4289, 31.9425, 38.037, 30.4073, 28.1028, 38.7477, 19.7203, 32.6566, 38.6954, 44.7776, 30.4733, 26.5362, 18.4394, 44.473, 27.7704, 38.5089, 42.5571, 32.3541, 40.4915, 47.449, 29.9934, 39.7173, 37.0906, 40.7772, 45.7227, 41.5349, 31.8067, 40.9675, 39.2232, 44.5202, 31.0649, 45.7769, 43.1399, 43.8794, 44.2541, 33.6636, 30.4832, 37.0608, 56.8017, 32.1276, 38.534, 32.4113, 40.4812, 46.3979, 38.755, 35.8776, 44.4851, 55.3556, 39.1754, 41.1557, 41.5942, 45.8077, 34.7294, 44.2574, 37.3255, 43.1073, 46.7741, 38.8521, 15.119, 48.2594, 70.1948, 14.331, 32.896, 40.4409, 38.8181, 24.5561, 26.6832, 39.8439, 42.4818, 40.2767, 30.1945, 41.8846, 37.6241, 56.4843, 40.7952, 42.9084, 31.3274, 46.3536, 40.6925, 39.4986, 47.6199, 17.7019, 42.9113, 41.393, 38.1744, 37.701, 41.6693, 19.7388, 21.976, 42.2349, 33.6757, 36.1245, 32.3006, 58.6768, 39.8584, 43.1189, 40.1935, 44.8074, 36.7762, 36.2819, 36.587, 43.1112, 42.7481, 40.6642, 45.5453, 44.8653, 36.0978, 33.6797, 45.8184, 47.5094, 43.5048, 45.0781, 32.3849, 21.3187, 47.9493, 40.509, 48.5662, 41.312, 37.619, 33.6404, 32.4466, 32.1161, 26.2285, 42.082, 45.9548, 29.3742, 36.1984, 42.7787, 43.9919, 43.5146, 32.3112, 41.3025, 37.1319, 32.5109, 38.8449, 31.3577, 33.8292, 18.3373, 32.3331, 31.259, 39.8719, 46.3745, 46.2508, 40.8249, 35.214, 32.8471, 38.038, 41.067, 60.7798, 33.9425, 43.5329, 40.7884, 34.8957, 34.6404, 37.3619, 42.9405, 37.9275, 43.6073, 29.6454, 33.5629, 35.1385, 27.5437, 33.9888, 39.6426, 43.6462, 18.0083, 41.2531, 35.3366, 41.5041, 44.8806, 42.2085, 45.4491, 29.5337, 40.6398, 33.37, 27.3953, 43.4171, 47.3866], \"legendgroup\": \"\", \"lon\": [-119.119, -82.5418, -78.4529, -103.596, -135.707, -144.796, -98.6782, -111.118, -98.2386, -77.3197, -93.3869, -83.7435, -112.008, -87.9045, -71.4371, -96.7592, -104.7, -83.2767, -83.3488, -77.6121, -85.5228, -75.4404, 0.0, -96.3844, -122.538, -84.3503, -105.539, -156.43, -78.88, -115.152, -77.9026, -101.706, -120.642, -145.478, -106.609, -92.1936, -139.66, -80.1527, -79.4048, -88.2781, -119.057, -107.754, -95.3397, -77.8463, -84.9389, -81.4425, -114.255, -85.1952, -104.531, -89.0972, -88.9159, -156.766, -134.576, -81.6879, -71.8757, -96.7417, -122.873, 0.0, -93.2234, -152.494, -84.6622, -116.223, -86.3185, -123.219, -87.8966, -103.057, -83.8078, -94.0207, -111.983, -96.6708, -88.4891, -82.5332, -97.2305, -93.2005, -97.4331, -111.655, -94.4983, -87.7524, -108.527, -74.5772, -81.1195, -98.9088, -97.6007, -85.5822, -92.498, -103.217, -120.458, -76.4584, -77.0429, -93.991, -90.7092, -165.445, -118.358, -89.9767, -91.1496, -84.1945, -67.1294, -94.7139, -84.2194, -81.0581, -106.088, -102.802, -80.2906, -111.371, -84.7967, -76.8914, -104.497, -81.5932, -76.2012, -118.152, -85.4496, -117.601, -119.84, -88.2428, -90.5075, -81.8494, -122.598, -72.6832, -80.0405, -82.4074, -122.221, -82.2718, -89.3371, -85.2038, -147.86, -88.5914, -103.642, -91.9877, -117.19, -86.2382, -78.8964, -176.646, -81.9905, -97.4259, -82.8919, -158.503, -149.996, -71.4282, -89.4675, -135.362, -114.091, -75.7243, -96.815, -124.109, -162.599, -71.0052, -83.9929, -96.3638, -98.4166, -77.4558, -81.316, -102.202, -84.6054, -89.0701, -80.6458, -90.36, -155.048, -114.606, -121.591, -89.6668, -87.1874, -81.7552, -66.0018, -73.1503, -97.5012, -107.894, -92.4003, -95.4024, -80.2329, -122.309, -90.258, -86.2944, -113.593, -73.8726, -87.0937, -93.6607, -106.378, -98.3086, -106.869, -109.024, -97.8278, -111.153, -89.3375, -91.2565, -121.15, -101.823, -86.5254, -88.7738, -132.945, -81.2021, -106.933, -99.6819, -107.218, -94.1372, -109.755, -78.7875, -88.1296, -131.714, -76.6682, -104.812, -109.065, -108.543, -92.2243, -88.5195, -79.9754, -78.9454, -100.747, -77.0377, 145.729, -101.28, -148.465, -170.711, -97.0372, -109.51, -92.2196, -81.7596, -80.0956, -89.6776, -114.488, -74.8135, -97.6699, -91.7109, -118.838, -132.37, -73.1002, -106.464, -92.5486, -87.3954, -74.1687, -119.768, -117.534, -64.7986, -112.596, -70.6143, -85.736, -113.099, -70.2804, -156.046, -159.339, -85.5521, -117.868, -86.6782, -86.394, -156.649, -104.667, -77.6724, -76.7634, -68.8281, -119.718, -94.3068, -121.843, -76.1063, -73.803, -89.6933, -94.0583, -91.4851, -79.9373, -78.9283, -88.1145, -94.9337, -114.297, -83.5603, -94.7117, -157.922, -97.1761, -122.293, -93.4031, -105.675, -122.375, -84.4269, -93.8256, -110.941, -97.6544, -80.1762, -112.497, -100.927, -95.8882, -84.5874, -76.0217, -112.07, -90.0759, -95.8942, -76.493, -92.0377, -99.274, -100.496, -116.506, -64.9734, -88.7512, -81.4663, -75.2411, -117.015, -84.4724, -115.792, -80.9431, -96.8518, -87.5306, -73.7076, -161.838, -118.408, -84.0797, -111.978, -82.2189, -86.7731, -121.929, -78.7322, -100.724, -110.738, -95.2789, -86.7535, -111.671, -99.4615, -98.4919, -106.918, -70.3087, -66.563, -70.0602, -94.3674, -74.1048, -93.2169, -75.9796, -98.4218, -98.4698, -73.7789, -81.9645, -82.5541, -124.246, -92.839], \"marker\": {\"color\": [7045, 10853, 9090, 626, 82, 839, 990, 264, 5596, 29175, 11145, 4400, 178450, 401679, 11083, 3760, 10953, 1036, 176542, 3441, 21927, 6542, 1360, 1345, 3315, 6577, 773, 27323, 4134, 168521, 9073, 5885, 5583, 722, 26447, 3378, 722, 98451, 1119, 2903, 2470, 4375, 180096, 5159, 1274, 7789, 4768, 7654, 1384, 749, 3079, 728, 4515, 35521, 1738, 8684, 9020, 6611, 1976, 641, 51837, 25500, 7707, 8913, 35190, 6318, 2120, 1001, 2437, 1983, 728, 77287, 1799, 231, 11873, 5721, 1387, 84222, 4923, 3113, 11430, 624, 25975, 5677, 4241, 748, 193, 2996, 2574, 1242, 1049, 722, 32481, 27664, 7711, 1005, 2305, 56004, 16760, 3310, 2848, 645, 89209, 3177, 1086, 2764, 938, 5269, 27175, 16024, 1376, 23182, 7827, 6788, 6767, 52178, 86655, 29538, 27554, 4359, 53660, 5203, 709, 10263, 4872, 1184, 1688, 5233, 99277, 727, 708, 104, 5355, 2726, 50306, 82, 19727, 19856, 806, 1346, 5886, 6056, 7608, 2015, 720, 152715, 21194, 2266, 1334, 93417, 143129, 9976, 12498, 4573, 2626, 75722, 6115, 1920, 57282, 3570, 12864, 34474, 26831, 11996, 5909, 2966, 700, 1568, 50775, 192978, 58358, 51857, 2601, 171957, 626, 18538, 19730, 1142, 6584, 1110, 3396, 8404, 16263, 2199, 8942, 7554, 8832, 1296, 724, 18820, 834, 2272, 1767, 636, 623, 70322, 6393, 2383, 105674, 515, 735, 5422, 15250, 6851, 7446, 845, 5403, 143578, 473, 2903, 988, 120, 304865, 627, 3284, 5681, 26099, 1798, 1040, 3013, 67187, 10750, 568, 724, 6460, 2318, 3272, 1412, 158824, 23601, 22191, 894, 1090, 552, 28334, 763, 83, 15484, 14064, 3821, 44574, 83819, 4688, 61, 286947, 18947, 11486, 5759, 12664, 15712, 4846, 17775, 17632, 5988, 136, 728, 18654, 12096, 678, 742, 1825, 628, 939, 56562, 2113, 1391, 648, 626, 176253, 395695, 7095, 19869, 4489, 2610, 677, 723, 18495, 4050, 721, 2896, 8461, 27448, 4000, 2939, 1251, 1881, 12460, 3753, 976, 1037, 156990, 992, 677, 676, 256465, 74764, 5539, 12623, 827, 248989, 2978, 121013, 18222, 11283, 70567, 28766, 728, 4803, 60415, 20865, 2542, 2676, 1257, 2379, 14656, 826, 1436, 2165, 2888, 161892, 958, 751, 42433, 127260, 5362, 8505, 383, 626], \"coloraxis\": \"coloraxis\", \"size\": [7045, 10853, 9090, 626, 82, 839, 990, 264, 5596, 29175, 11145, 4400, 178450, 401679, 11083, 3760, 10953, 1036, 176542, 3441, 21927, 6542, 1360, 1345, 3315, 6577, 773, 27323, 4134, 168521, 9073, 5885, 5583, 722, 26447, 3378, 722, 98451, 1119, 2903, 2470, 4375, 180096, 5159, 1274, 7789, 4768, 7654, 1384, 749, 3079, 728, 4515, 35521, 1738, 8684, 9020, 6611, 1976, 641, 51837, 25500, 7707, 8913, 35190, 6318, 2120, 1001, 2437, 1983, 728, 77287, 1799, 231, 11873, 5721, 1387, 84222, 4923, 3113, 11430, 624, 25975, 5677, 4241, 748, 193, 2996, 2574, 1242, 1049, 722, 32481, 27664, 7711, 1005, 2305, 56004, 16760, 3310, 2848, 645, 89209, 3177, 1086, 2764, 938, 5269, 27175, 16024, 1376, 23182, 7827, 6788, 6767, 52178, 86655, 29538, 27554, 4359, 53660, 5203, 709, 10263, 4872, 1184, 1688, 5233, 99277, 727, 708, 104, 5355, 2726, 50306, 82, 19727, 19856, 806, 1346, 5886, 6056, 7608, 2015, 720, 152715, 21194, 2266, 1334, 93417, 143129, 9976, 12498, 4573, 2626, 75722, 6115, 1920, 57282, 3570, 12864, 34474, 26831, 11996, 5909, 2966, 700, 1568, 50775, 192978, 58358, 51857, 2601, 171957, 626, 18538, 19730, 1142, 6584, 1110, 3396, 8404, 16263, 2199, 8942, 7554, 8832, 1296, 724, 18820, 834, 2272, 1767, 636, 623, 70322, 6393, 2383, 105674, 515, 735, 5422, 15250, 6851, 7446, 845, 5403, 143578, 473, 2903, 988, 120, 304865, 627, 3284, 5681, 26099, 1798, 1040, 3013, 67187, 10750, 568, 724, 6460, 2318, 3272, 1412, 158824, 23601, 22191, 894, 1090, 552, 28334, 763, 83, 15484, 14064, 3821, 44574, 83819, 4688, 61, 286947, 18947, 11486, 5759, 12664, 15712, 4846, 17775, 17632, 5988, 136, 728, 18654, 12096, 678, 742, 1825, 628, 939, 56562, 2113, 1391, 648, 626, 176253, 395695, 7095, 19869, 4489, 2610, 677, 723, 18495, 4050, 721, 2896, 8461, 27448, 4000, 2939, 1251, 1881, 12460, 3753, 976, 1037, 156990, 992, 677, 676, 256465, 74764, 5539, 12623, 827, 248989, 2978, 121013, 18222, 11283, 70567, 28766, 728, 4803, 60415, 20865, 2542, 2676, 1257, 2379, 14656, 826, 1436, 2165, 2888, 161892, 958, 751, 42433, 127260, 5362, 8505, 383, 626], \"sizemode\": \"area\", \"sizeref\": 1004.1975}, \"mode\": \"markers\", \"name\": \"\", \"showlegend\": false, \"subplot\": \"mapbox\", \"type\": \"scattermapbox\"}],                        {\"coloraxis\": {\"colorbar\": {\"title\": {\"text\": \"flights\"}}, \"colorscale\": [[0.0, \"#000000\"], [0.0625, \"#001f4d\"], [0.125, \"#003786\"], [0.1875, \"#0e58a8\"], [0.25, \"#217eb8\"], [0.3125, \"#30a4ca\"], [0.375, \"#54c8df\"], [0.4375, \"#9be4ef\"], [0.5, \"#e1e9d1\"], [0.5625, \"#f3d573\"], [0.625, \"#e7b000\"], [0.6875, \"#da8200\"], [0.75, \"#c65400\"], [0.8125, \"#ac2301\"], [0.875, \"#820000\"], [0.9375, \"#4c0000\"], [1.0, \"#000000\"]]}, \"height\": 300, \"legend\": {\"itemsizing\": \"constant\", \"tracegroupgap\": 0}, \"mapbox\": {\"center\": {\"lat\": 38.62550457317073, \"lon\": -96.82999207317073}, \"domain\": {\"x\": [0.0, 1.0], \"y\": [0.0, 1.0]}, \"style\": \"open-street-map\", \"zoom\": 3}, \"margin\": {\"b\": 0, \"l\": 0, \"r\": 0, \"t\": 0}, \"template\": {\"data\": {\"bar\": [{\"error_x\": {\"color\": \"#2a3f5f\"}, \"error_y\": {\"color\": \"#2a3f5f\"}, \"marker\": {\"line\": {\"color\": \"#E5ECF6\", \"width\": 0.5}}, \"type\": \"bar\"}], \"barpolar\": [{\"marker\": {\"line\": {\"color\": \"#E5ECF6\", \"width\": 0.5}}, \"type\": \"barpolar\"}], \"carpet\": [{\"aaxis\": {\"endlinecolor\": \"#2a3f5f\", \"gridcolor\": \"white\", \"linecolor\": \"white\", \"minorgridcolor\": \"white\", \"startlinecolor\": \"#2a3f5f\"}, \"baxis\": {\"endlinecolor\": \"#2a3f5f\", \"gridcolor\": \"white\", \"linecolor\": \"white\", \"minorgridcolor\": \"white\", \"startlinecolor\": \"#2a3f5f\"}, \"type\": \"carpet\"}], \"choropleth\": [{\"colorbar\": {\"outlinewidth\": 0, \"ticks\": \"\"}, \"type\": \"choropleth\"}], \"contour\": [{\"colorbar\": {\"outlinewidth\": 0, \"ticks\": \"\"}, \"colorscale\": [[0.0, \"#0d0887\"], [0.1111111111111111, \"#46039f\"], [0.2222222222222222, \"#7201a8\"], [0.3333333333333333, \"#9c179e\"], [0.4444444444444444, \"#bd3786\"], [0.5555555555555556, \"#d8576b\"], [0.6666666666666666, \"#ed7953\"], [0.7777777777777778, \"#fb9f3a\"], [0.8888888888888888, \"#fdca26\"], [1.0, \"#f0f921\"]], \"type\": \"contour\"}], \"contourcarpet\": [{\"colorbar\": {\"outlinewidth\": 0, \"ticks\": \"\"}, \"type\": \"contourcarpet\"}], \"heatmap\": [{\"colorbar\": {\"outlinewidth\": 0, \"ticks\": \"\"}, \"colorscale\": [[0.0, \"#0d0887\"], [0.1111111111111111, \"#46039f\"], [0.2222222222222222, \"#7201a8\"], [0.3333333333333333, \"#9c179e\"], [0.4444444444444444, \"#bd3786\"], [0.5555555555555556, \"#d8576b\"], [0.6666666666666666, \"#ed7953\"], [0.7777777777777778, \"#fb9f3a\"], [0.8888888888888888, \"#fdca26\"], [1.0, \"#f0f921\"]], \"type\": \"heatmap\"}], \"heatmapgl\": [{\"colorbar\": {\"outlinewidth\": 0, \"ticks\": \"\"}, \"colorscale\": [[0.0, \"#0d0887\"], [0.1111111111111111, \"#46039f\"], [0.2222222222222222, \"#7201a8\"], [0.3333333333333333, \"#9c179e\"], [0.4444444444444444, \"#bd3786\"], [0.5555555555555556, \"#d8576b\"], [0.6666666666666666, \"#ed7953\"], [0.7777777777777778, \"#fb9f3a\"], [0.8888888888888888, \"#fdca26\"], [1.0, \"#f0f921\"]], \"type\": \"heatmapgl\"}], \"histogram\": [{\"marker\": {\"colorbar\": {\"outlinewidth\": 0, \"ticks\": \"\"}}, \"type\": \"histogram\"}], \"histogram2d\": [{\"colorbar\": {\"outlinewidth\": 0, \"ticks\": \"\"}, \"colorscale\": [[0.0, \"#0d0887\"], [0.1111111111111111, \"#46039f\"], [0.2222222222222222, \"#7201a8\"], [0.3333333333333333, \"#9c179e\"], [0.4444444444444444, \"#bd3786\"], [0.5555555555555556, \"#d8576b\"], [0.6666666666666666, \"#ed7953\"], [0.7777777777777778, \"#fb9f3a\"], [0.8888888888888888, \"#fdca26\"], [1.0, \"#f0f921\"]], \"type\": \"histogram2d\"}], \"histogram2dcontour\": [{\"colorbar\": {\"outlinewidth\": 0, \"ticks\": \"\"}, \"colorscale\": [[0.0, \"#0d0887\"], [0.1111111111111111, \"#46039f\"], [0.2222222222222222, \"#7201a8\"], [0.3333333333333333, \"#9c179e\"], [0.4444444444444444, \"#bd3786\"], [0.5555555555555556, \"#d8576b\"], [0.6666666666666666, \"#ed7953\"], [0.7777777777777778, \"#fb9f3a\"], [0.8888888888888888, \"#fdca26\"], [1.0, \"#f0f921\"]], \"type\": \"histogram2dcontour\"}], \"mesh3d\": [{\"colorbar\": {\"outlinewidth\": 0, \"ticks\": \"\"}, \"type\": \"mesh3d\"}], \"parcoords\": [{\"line\": {\"colorbar\": {\"outlinewidth\": 0, \"ticks\": \"\"}}, \"type\": \"parcoords\"}], \"pie\": [{\"automargin\": true, \"type\": \"pie\"}], \"scatter\": [{\"marker\": {\"colorbar\": {\"outlinewidth\": 0, \"ticks\": \"\"}}, \"type\": \"scatter\"}], \"scatter3d\": [{\"line\": {\"colorbar\": {\"outlinewidth\": 0, \"ticks\": \"\"}}, \"marker\": {\"colorbar\": {\"outlinewidth\": 0, \"ticks\": \"\"}}, \"type\": \"scatter3d\"}], \"scattercarpet\": [{\"marker\": {\"colorbar\": {\"outlinewidth\": 0, \"ticks\": \"\"}}, \"type\": \"scattercarpet\"}], \"scattergeo\": [{\"marker\": {\"colorbar\": {\"outlinewidth\": 0, \"ticks\": \"\"}}, \"type\": \"scattergeo\"}], \"scattergl\": [{\"marker\": {\"colorbar\": {\"outlinewidth\": 0, \"ticks\": \"\"}}, \"type\": \"scattergl\"}], \"scattermapbox\": [{\"marker\": {\"colorbar\": {\"outlinewidth\": 0, \"ticks\": \"\"}}, \"type\": \"scattermapbox\"}], \"scatterpolar\": [{\"marker\": {\"colorbar\": {\"outlinewidth\": 0, \"ticks\": \"\"}}, \"type\": \"scatterpolar\"}], \"scatterpolargl\": [{\"marker\": {\"colorbar\": {\"outlinewidth\": 0, \"ticks\": \"\"}}, \"type\": \"scatterpolargl\"}], \"scatterternary\": [{\"marker\": {\"colorbar\": {\"outlinewidth\": 0, \"ticks\": \"\"}}, \"type\": \"scatterternary\"}], \"surface\": [{\"colorbar\": {\"outlinewidth\": 0, \"ticks\": \"\"}, \"colorscale\": [[0.0, \"#0d0887\"], [0.1111111111111111, \"#46039f\"], [0.2222222222222222, \"#7201a8\"], [0.3333333333333333, \"#9c179e\"], [0.4444444444444444, \"#bd3786\"], [0.5555555555555556, \"#d8576b\"], [0.6666666666666666, \"#ed7953\"], [0.7777777777777778, \"#fb9f3a\"], [0.8888888888888888, \"#fdca26\"], [1.0, \"#f0f921\"]], \"type\": \"surface\"}], \"table\": [{\"cells\": {\"fill\": {\"color\": \"#EBF0F8\"}, \"line\": {\"color\": \"white\"}}, \"header\": {\"fill\": {\"color\": \"#C8D4E3\"}, \"line\": {\"color\": \"white\"}}, \"type\": \"table\"}]}, \"layout\": {\"annotationdefaults\": {\"arrowcolor\": \"#2a3f5f\", \"arrowhead\": 0, \"arrowwidth\": 1}, \"autotypenumbers\": \"strict\", \"coloraxis\": {\"colorbar\": {\"outlinewidth\": 0, \"ticks\": \"\"}}, \"colorscale\": {\"diverging\": [[0, \"#8e0152\"], [0.1, \"#c51b7d\"], [0.2, \"#de77ae\"], [0.3, \"#f1b6da\"], [0.4, \"#fde0ef\"], [0.5, \"#f7f7f7\"], [0.6, \"#e6f5d0\"], [0.7, \"#b8e186\"], [0.8, \"#7fbc41\"], [0.9, \"#4d9221\"], [1, \"#276419\"]], \"sequential\": [[0.0, \"#0d0887\"], [0.1111111111111111, \"#46039f\"], [0.2222222222222222, \"#7201a8\"], [0.3333333333333333, \"#9c179e\"], [0.4444444444444444, \"#bd3786\"], [0.5555555555555556, \"#d8576b\"], [0.6666666666666666, \"#ed7953\"], [0.7777777777777778, \"#fb9f3a\"], [0.8888888888888888, \"#fdca26\"], [1.0, \"#f0f921\"]], \"sequentialminus\": [[0.0, \"#0d0887\"], [0.1111111111111111, \"#46039f\"], [0.2222222222222222, \"#7201a8\"], [0.3333333333333333, \"#9c179e\"], [0.4444444444444444, \"#bd3786\"], [0.5555555555555556, \"#d8576b\"], [0.6666666666666666, \"#ed7953\"], [0.7777777777777778, \"#fb9f3a\"], [0.8888888888888888, \"#fdca26\"], [1.0, \"#f0f921\"]]}, \"colorway\": [\"#636efa\", \"#EF553B\", \"#00cc96\", \"#ab63fa\", \"#FFA15A\", \"#19d3f3\", \"#FF6692\", \"#B6E880\", \"#FF97FF\", \"#FECB52\"], \"font\": {\"color\": \"#2a3f5f\"}, \"geo\": {\"bgcolor\": \"white\", \"lakecolor\": \"white\", \"landcolor\": \"#E5ECF6\", \"showlakes\": true, \"showland\": true, \"subunitcolor\": \"white\"}, \"hoverlabel\": {\"align\": \"left\"}, \"hovermode\": \"closest\", \"mapbox\": {\"style\": \"light\"}, \"paper_bgcolor\": \"white\", \"plot_bgcolor\": \"#E5ECF6\", \"polar\": {\"angularaxis\": {\"gridcolor\": \"white\", \"linecolor\": \"white\", \"ticks\": \"\"}, \"bgcolor\": \"#E5ECF6\", \"radialaxis\": {\"gridcolor\": \"white\", \"linecolor\": \"white\", \"ticks\": \"\"}}, \"scene\": {\"xaxis\": {\"backgroundcolor\": \"#E5ECF6\", \"gridcolor\": \"white\", \"gridwidth\": 2, \"linecolor\": \"white\", \"showbackground\": true, \"ticks\": \"\", \"zerolinecolor\": \"white\"}, \"yaxis\": {\"backgroundcolor\": \"#E5ECF6\", \"gridcolor\": \"white\", \"gridwidth\": 2, \"linecolor\": \"white\", \"showbackground\": true, \"ticks\": \"\", \"zerolinecolor\": \"white\"}, \"zaxis\": {\"backgroundcolor\": \"#E5ECF6\", \"gridcolor\": \"white\", \"gridwidth\": 2, \"linecolor\": \"white\", \"showbackground\": true, \"ticks\": \"\", \"zerolinecolor\": \"white\"}}, \"shapedefaults\": {\"line\": {\"color\": \"#2a3f5f\"}}, \"ternary\": {\"aaxis\": {\"gridcolor\": \"white\", \"linecolor\": \"white\", \"ticks\": \"\"}, \"baxis\": {\"gridcolor\": \"white\", \"linecolor\": \"white\", \"ticks\": \"\"}, \"bgcolor\": \"#E5ECF6\", \"caxis\": {\"gridcolor\": \"white\", \"linecolor\": \"white\", \"ticks\": \"\"}}, \"title\": {\"x\": 0.05}, \"xaxis\": {\"automargin\": true, \"gridcolor\": \"white\", \"linecolor\": \"white\", \"ticks\": \"\", \"title\": {\"standoff\": 15}, \"zerolinecolor\": \"white\", \"zerolinewidth\": 2}, \"yaxis\": {\"automargin\": true, \"gridcolor\": \"white\", \"linecolor\": \"white\", \"ticks\": \"\", \"title\": {\"standoff\": 15}, \"zerolinecolor\": \"white\", \"zerolinewidth\": 2}}}},                        {\"responsive\": true}                    ).then(function(){\n",
       "                            \n",
       "var gd = document.getElementById('e980f353-db07-4d94-8380-a10f4e5f15a3');\n",
       "var x = new MutationObserver(function (mutations, observer) {{\n",
       "        var display = window.getComputedStyle(gd).display;\n",
       "        if (!display || display === 'none') {{\n",
       "            console.log([gd, 'removed!']);\n",
       "            Plotly.purge(gd);\n",
       "            observer.disconnect();\n",
       "        }}\n",
       "}});\n",
       "\n",
       "// Listen for the removal of the full notebook cells\n",
       "var notebookContainer = gd.closest('#notebook-container');\n",
       "if (notebookContainer) {{\n",
       "    x.observe(notebookContainer, {childList: true});\n",
       "}}\n",
       "\n",
       "// Listen for the clearing of the current output cell\n",
       "var outputEl = gd.closest('.output');\n",
       "if (outputEl) {{\n",
       "    x.observe(outputEl, {childList: true});\n",
       "}}\n",
       "\n",
       "                        })                };                });            </script>        </div>"
      ]
     },
     "metadata": {},
     "output_type": "display_data"
    }
   ],
   "source": [
    "import mariadb\n",
    "\n",
    "config = {\n",
    "    'host': '[host_address]',\n",
    "    'port': 3306,\n",
    "    'user': '[username]',\n",
    "    'password': '***',\n",
    "    'database': 'travel',\n",
    "    'ssl': 1\n",
    "}\n",
    "\n",
    "conn = mariadb.connect(**config)\n",
    "\n",
    "cur = conn.cursor()\n",
    "\n",
    "cur.execute(\"SELECT COUNT(*) flights, year \" \\\n",
    "            \"FROM flights \" \\\n",
    "            \"WHERE year >= 2015 and year < 2021 \" \\\n",
    "            \"GROUP BY year \" \\\n",
    "            \"ORDER BY year DESC\")\n",
    "\n",
    "results = cur.fetchall()\n",
    "\n",
    "print(\"------------------------------------\")\n",
    "print('Flights\\t\\tYear')\n",
    "print(\"------------------------------------\")\n",
    "for (flights, year) in results:\n",
    "    print(f\"{year}\\t\\t{flights}\")"
   ]
  },
  {
   "cell_type": "code",
   "execution_count": 1,
   "id": "c3c1b00e-6dd7-461b-91ca-cce26b40dfe5",
   "metadata": {},
   "outputs": [
    {
     "ename": "OperationalError",
     "evalue": "Unknown MySQL server host '[host_address]' (8)",
     "output_type": "error",
     "traceback": [
      "\u001b[0;31m---------------------------------------------------------------------------\u001b[0m",
      "\u001b[0;31mOperationalError\u001b[0m                          Traceback (most recent call last)",
      "\u001b[0;32m<ipython-input-1-d95a6b21da99>\u001b[0m in \u001b[0;36m<module>\u001b[0;34m\u001b[0m\n\u001b[1;32m     12\u001b[0m }\n\u001b[1;32m     13\u001b[0m \u001b[0;34m\u001b[0m\u001b[0m\n\u001b[0;32m---> 14\u001b[0;31m \u001b[0mconn\u001b[0m \u001b[0;34m=\u001b[0m \u001b[0mmariadb\u001b[0m\u001b[0;34m.\u001b[0m\u001b[0mconnect\u001b[0m\u001b[0;34m(\u001b[0m\u001b[0;34m**\u001b[0m\u001b[0mconfig\u001b[0m\u001b[0;34m)\u001b[0m\u001b[0;34m\u001b[0m\u001b[0;34m\u001b[0m\u001b[0m\n\u001b[0m\u001b[1;32m     15\u001b[0m \u001b[0;34m\u001b[0m\u001b[0m\n\u001b[1;32m     16\u001b[0m \u001b[0mcur\u001b[0m \u001b[0;34m=\u001b[0m \u001b[0mconn\u001b[0m\u001b[0;34m.\u001b[0m\u001b[0mcursor\u001b[0m\u001b[0;34m(\u001b[0m\u001b[0;34m)\u001b[0m\u001b[0;34m\u001b[0m\u001b[0;34m\u001b[0m\u001b[0m\n",
      "\u001b[0;31mOperationalError\u001b[0m: Unknown MySQL server host '[host_address]' (8)"
     ]
    }
   ],
   "source": [
    "import mariadb\n",
    "import plotly.express as px\n",
    "from pandas import DataFrame\n",
    "\n",
    "config = {\n",
    "    'host': '[host_address]',\n",
    "    'port': 3306,\n",
    "    'user': '[username]',\n",
    "    'password': '***',\n",
    "    'database': 'travel',\n",
    "    'ssl': 1\n",
    "}\n",
    "\n",
    "conn = mariadb.connect(**config)\n",
    "\n",
    "cur = conn.cursor()\n",
    "\n",
    "cur.execute(\"SELECT COUNT(*) flights, year \" \\\n",
    "            \"FROM flights \" \\\n",
    "            \"WHERE year >= 2015 and year < 2021 \" \\\n",
    "            \"GROUP BY year \" \\\n",
    "            \"ORDER BY year DESC\")\n",
    "\n",
    "results = cur.fetchall()\n",
    "\n",
    "df = DataFrame(results, columns = ['flights','year'])\n",
    "fig = px.bar(df, x=\"year\", y=\"flights\", title=\"Flights per Year\")\n",
    "fig.show()\n",
    "    \n"
   ]
  },
  {
   "cell_type": "code",
   "execution_count": 2,
   "id": "cffce1a8-087e-4835-ba2c-2e0b7dc0b576",
   "metadata": {},
   "outputs": [
    {
     "ename": "OperationalError",
     "evalue": "Unknown MySQL server host '[host_address]' (8)",
     "output_type": "error",
     "traceback": [
      "\u001b[0;31m---------------------------------------------------------------------------\u001b[0m",
      "\u001b[0;31mOperationalError\u001b[0m                          Traceback (most recent call last)",
      "\u001b[0;32m<ipython-input-2-69d1e2e3e553>\u001b[0m in \u001b[0;36m<module>\u001b[0;34m\u001b[0m\n\u001b[1;32m     12\u001b[0m }\n\u001b[1;32m     13\u001b[0m \u001b[0;34m\u001b[0m\u001b[0m\n\u001b[0;32m---> 14\u001b[0;31m \u001b[0mconn\u001b[0m \u001b[0;34m=\u001b[0m \u001b[0mmariadb\u001b[0m\u001b[0;34m.\u001b[0m\u001b[0mconnect\u001b[0m\u001b[0;34m(\u001b[0m\u001b[0;34m**\u001b[0m\u001b[0mconfig\u001b[0m\u001b[0;34m)\u001b[0m\u001b[0;34m\u001b[0m\u001b[0;34m\u001b[0m\u001b[0m\n\u001b[0m\u001b[1;32m     15\u001b[0m \u001b[0;34m\u001b[0m\u001b[0m\n\u001b[1;32m     16\u001b[0m \u001b[0mcur\u001b[0m \u001b[0;34m=\u001b[0m \u001b[0mconn\u001b[0m\u001b[0;34m.\u001b[0m\u001b[0mcursor\u001b[0m\u001b[0;34m(\u001b[0m\u001b[0;34m)\u001b[0m\u001b[0;34m\u001b[0m\u001b[0;34m\u001b[0m\u001b[0m\n",
      "\u001b[0;31mOperationalError\u001b[0m: Unknown MySQL server host '[host_address]' (8)"
     ]
    }
   ],
   "source": [
    "import mariadb\n",
    "import plotly.express as px\n",
    "from pandas import DataFrame\n",
    "\n",
    "config = {\n",
    "    'host': '[host_address]',\n",
    "    'port': 3306,\n",
    "    'user': '[username]',\n",
    "    'password': '***',\n",
    "    'database': 'travel',\n",
    "    'ssl': 1\n",
    "}\n",
    "\n",
    "conn = mariadb.connect(**config)\n",
    "\n",
    "cur = conn.cursor()\n",
    "\n",
    "cur.execute(\"SELECT COUNT(*) flights, year, month \" \\\n",
    "            \"FROM flights \" \\\n",
    "            \"WHERE year >= 2015 and year < 2021 \" \\\n",
    "            \"GROUP BY year, month \" \\\n",
    "            \"ORDER BY year DESC, month ASC\")\n",
    "\n",
    "results = cur.fetchall()\n",
    "        \n",
    "df = DataFrame(results, columns = ['flights','year','month'])\n",
    "fig = px.line(df, x=\"month\", y=\"flights\", color=\"year\", title=\"Flights per Year\")\n",
    "fig.update_xaxes(type='category')\n",
    "fig.show()"
   ]
  },
  {
   "cell_type": "code",
   "execution_count": null,
   "id": "8263ad3e-4f5c-419d-9195-3326ab4f9ea8",
   "metadata": {},
   "outputs": [],
   "source": [
    "import mariadb\n",
    "import plotly.express as px\n",
    "from pandas import DataFrame\n",
    "\n",
    "config = {\n",
    "    'host': '[host_address]',\n",
    "    'port': 3306,\n",
    "    'user': '[username]',\n",
    "    'password': '***',\n",
    "    'database': 'travel',\n",
    "    'ssl': 1\n",
    "}\n",
    "\n",
    "conn = mariadb.connect(**config)\n",
    "\n",
    "cur = conn.cursor()\n",
    "\n",
    "cur.execute(\"SELECT COUNT(*) flights, a.airport airport, a.latitude latitude, a.longitude longitude \" \\\n",
    "            \"FROM airports a INNER JOIN flights f ON a.iata_code = f.dest \" \\\n",
    "            \"WHERE year = 2019 \" \\\n",
    "            \"GROUP BY a.airport, a.latitude, a.longitude\")\n",
    "\n",
    "results = cur.fetchall()\n",
    "        \n",
    "df = DataFrame(results, columns = ['flights','airport','latitude','longitude'])\n",
    "\n",
    "fig = px.scatter_mapbox(df, lat=\"latitude\", lon=\"longitude\", hover_name=\"airport\", \n",
    "                        hover_data=[\"flights\"], color_continuous_scale=px.colors.cyclical.IceFire, \n",
    "                        color=\"flights\", size=\"flights\", zoom=3, height=300)\n",
    "fig.update_layout(mapbox_style=\"open-street-map\")\n",
    "fig.update_layout(margin={\"r\":0,\"t\":0,\"l\":0,\"b\":0})\n",
    "fig.show()"
   ]
  }
 ],
 "metadata": {
  "kernelspec": {
   "display_name": "Python 3",
   "language": "python",
   "name": "python3"
  },
  "language_info": {
   "codemirror_mode": {
    "name": "ipython",
    "version": 3
   },
   "file_extension": ".py",
   "mimetype": "text/x-python",
   "name": "python",
   "nbconvert_exporter": "python",
   "pygments_lexer": "ipython3",
   "version": "3.9.2"
  }
 },
 "nbformat": 4,
 "nbformat_minor": 5
}
